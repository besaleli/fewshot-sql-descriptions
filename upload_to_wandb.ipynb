{
 "cells": [
  {
   "cell_type": "code",
   "execution_count": 1,
   "metadata": {},
   "outputs": [
    {
     "name": "stderr",
     "output_type": "stream",
     "text": [
      "/Users/razbesaleli/fewshot-sql-descriptions/.venv/lib/python3.9/site-packages/tqdm/auto.py:21: TqdmWarning: IProgress not found. Please update jupyter and ipywidgets. See https://ipywidgets.readthedocs.io/en/stable/user_install.html\n",
      "  from .autonotebook import tqdm as notebook_tqdm\n"
     ]
    }
   ],
   "source": [
    "import wandb\n",
    "import pandas as pd\n",
    "from tqdm.auto import tqdm"
   ]
  },
  {
   "cell_type": "code",
   "execution_count": 2,
   "metadata": {},
   "outputs": [
    {
     "data": {
      "text/html": [
       "<div>\n",
       "<style scoped>\n",
       "    .dataframe tbody tr th:only-of-type {\n",
       "        vertical-align: middle;\n",
       "    }\n",
       "\n",
       "    .dataframe tbody tr th {\n",
       "        vertical-align: top;\n",
       "    }\n",
       "\n",
       "    .dataframe thead th {\n",
       "        text-align: right;\n",
       "    }\n",
       "</style>\n",
       "<table border=\"1\" class=\"dataframe\">\n",
       "  <thead>\n",
       "    <tr style=\"text-align: right;\">\n",
       "      <th></th>\n",
       "      <th>question</th>\n",
       "      <th>query</th>\n",
       "      <th>generation</th>\n",
       "      <th>retrieval_method</th>\n",
       "      <th>nshot</th>\n",
       "      <th>masked</th>\n",
       "      <th>no_literals</th>\n",
       "      <th>precision</th>\n",
       "      <th>recall</th>\n",
       "      <th>f1</th>\n",
       "    </tr>\n",
       "  </thead>\n",
       "  <tbody>\n",
       "    <tr>\n",
       "      <th>0</th>\n",
       "      <td>what is warfarin sodium 2.5 mg po tabs's way o...</td>\n",
       "      <td>select distinct medication.routeadmin from med...</td>\n",
       "      <td>what is the ingesting method of warfarin sodium?</td>\n",
       "      <td>column_jaccard</td>\n",
       "      <td>1</td>\n",
       "      <td>True</td>\n",
       "      <td>False</td>\n",
       "      <td>0.808309</td>\n",
       "      <td>0.662931</td>\n",
       "      <td>0.728437</td>\n",
       "    </tr>\n",
       "    <tr>\n",
       "      <th>1</th>\n",
       "      <td>what is the method for ingestion of ns 1,000 ml?</td>\n",
       "      <td>select distinct medication.routeadmin from med...</td>\n",
       "      <td>what is the ingesting method of niacin?</td>\n",
       "      <td>column_jaccard</td>\n",
       "      <td>1</td>\n",
       "      <td>True</td>\n",
       "      <td>False</td>\n",
       "      <td>0.728178</td>\n",
       "      <td>0.666734</td>\n",
       "      <td>0.696103</td>\n",
       "    </tr>\n",
       "    <tr>\n",
       "      <th>2</th>\n",
       "      <td>how is atorvastatin calcium 80 mg po tabs taken?</td>\n",
       "      <td>select distinct medication.routeadmin from med...</td>\n",
       "      <td>what is the name of the medication containing ...</td>\n",
       "      <td>column_jaccard</td>\n",
       "      <td>1</td>\n",
       "      <td>True</td>\n",
       "      <td>False</td>\n",
       "      <td>0.716453</td>\n",
       "      <td>0.668118</td>\n",
       "      <td>0.691442</td>\n",
       "    </tr>\n",
       "    <tr>\n",
       "      <th>3</th>\n",
       "      <td>what is metoprolol succinate er 50 mg po tb24'...</td>\n",
       "      <td>select distinct medication.routeadmin from med...</td>\n",
       "      <td>what is the prescribing doctor's name and the ...</td>\n",
       "      <td>column_jaccard</td>\n",
       "      <td>1</td>\n",
       "      <td>True</td>\n",
       "      <td>False</td>\n",
       "      <td>0.552028</td>\n",
       "      <td>0.427494</td>\n",
       "      <td>0.481845</td>\n",
       "    </tr>\n",
       "    <tr>\n",
       "      <th>4</th>\n",
       "      <td>tell me the price of a procedure called agent ...</td>\n",
       "      <td>select distinct cost.cost from cost where cost...</td>\n",
       "      <td>what is the price of a procedure named agent s...</td>\n",
       "      <td>column_jaccard</td>\n",
       "      <td>1</td>\n",
       "      <td>True</td>\n",
       "      <td>False</td>\n",
       "      <td>0.872670</td>\n",
       "      <td>0.864234</td>\n",
       "      <td>0.868431</td>\n",
       "    </tr>\n",
       "  </tbody>\n",
       "</table>\n",
       "</div>"
      ],
      "text/plain": [
       "                                            question  \\\n",
       "0  what is warfarin sodium 2.5 mg po tabs's way o...   \n",
       "1   what is the method for ingestion of ns 1,000 ml?   \n",
       "2   how is atorvastatin calcium 80 mg po tabs taken?   \n",
       "3  what is metoprolol succinate er 50 mg po tb24'...   \n",
       "4  tell me the price of a procedure called agent ...   \n",
       "\n",
       "                                               query  \\\n",
       "0  select distinct medication.routeadmin from med...   \n",
       "1  select distinct medication.routeadmin from med...   \n",
       "2  select distinct medication.routeadmin from med...   \n",
       "3  select distinct medication.routeadmin from med...   \n",
       "4  select distinct cost.cost from cost where cost...   \n",
       "\n",
       "                                          generation retrieval_method  nshot  \\\n",
       "0   what is the ingesting method of warfarin sodium?   column_jaccard      1   \n",
       "1            what is the ingesting method of niacin?   column_jaccard      1   \n",
       "2  what is the name of the medication containing ...   column_jaccard      1   \n",
       "3  what is the prescribing doctor's name and the ...   column_jaccard      1   \n",
       "4  what is the price of a procedure named agent s...   column_jaccard      1   \n",
       "\n",
       "   masked  no_literals  precision    recall        f1  \n",
       "0    True        False   0.808309  0.662931  0.728437  \n",
       "1    True        False   0.728178  0.666734  0.696103  \n",
       "2    True        False   0.716453  0.668118  0.691442  \n",
       "3    True        False   0.552028  0.427494  0.481845  \n",
       "4    True        False   0.872670  0.864234  0.868431  "
      ]
     },
     "execution_count": 2,
     "metadata": {},
     "output_type": "execute_result"
    }
   ],
   "source": [
    "df = pd.read_json('data.json')\n",
    "df.head()"
   ]
  },
  {
   "cell_type": "code",
   "execution_count": 3,
   "metadata": {},
   "outputs": [],
   "source": [
    "df = (\n",
    "    df[df['no_literals'] == False]\n",
    "    .drop(labels=['no_literals'], axis=1)\n",
    "    .reset_index(drop=True)\n",
    "    )"
   ]
  },
  {
   "cell_type": "code",
   "execution_count": 4,
   "metadata": {},
   "outputs": [
    {
     "name": "stdout",
     "output_type": "stream",
     "text": [
      "18120\n",
      "column_jaccard    6040\n",
      "tfidf             6040\n",
      "random            6040\n",
      "Name: retrieval_method, dtype: int64\n"
     ]
    },
    {
     "data": {
      "text/html": [
       "<div>\n",
       "<style scoped>\n",
       "    .dataframe tbody tr th:only-of-type {\n",
       "        vertical-align: middle;\n",
       "    }\n",
       "\n",
       "    .dataframe tbody tr th {\n",
       "        vertical-align: top;\n",
       "    }\n",
       "\n",
       "    .dataframe thead th {\n",
       "        text-align: right;\n",
       "    }\n",
       "</style>\n",
       "<table border=\"1\" class=\"dataframe\">\n",
       "  <thead>\n",
       "    <tr style=\"text-align: right;\">\n",
       "      <th></th>\n",
       "      <th>question</th>\n",
       "      <th>query</th>\n",
       "      <th>generation</th>\n",
       "      <th>retrieval_method</th>\n",
       "      <th>nshot</th>\n",
       "      <th>masked</th>\n",
       "      <th>precision</th>\n",
       "      <th>recall</th>\n",
       "      <th>f1</th>\n",
       "    </tr>\n",
       "  </thead>\n",
       "  <tbody>\n",
       "    <tr>\n",
       "      <th>0</th>\n",
       "      <td>what is warfarin sodium 2.5 mg po tabs's way o...</td>\n",
       "      <td>select distinct medication.routeadmin from med...</td>\n",
       "      <td>The query extracts all of the patient's medica...</td>\n",
       "      <td>column_jaccard</td>\n",
       "      <td>0</td>\n",
       "      <td>False</td>\n",
       "      <td>0.590455</td>\n",
       "      <td>0.661140</td>\n",
       "      <td>0.623802</td>\n",
       "    </tr>\n",
       "    <tr>\n",
       "      <th>1</th>\n",
       "      <td>what is the method for ingestion of ns 1,000 ml?</td>\n",
       "      <td>select distinct medication.routeadmin from med...</td>\n",
       "      <td>This query selects all the rows from the medic...</td>\n",
       "      <td>column_jaccard</td>\n",
       "      <td>0</td>\n",
       "      <td>False</td>\n",
       "      <td>0.563709</td>\n",
       "      <td>0.675585</td>\n",
       "      <td>0.614598</td>\n",
       "    </tr>\n",
       "    <tr>\n",
       "      <th>2</th>\n",
       "      <td>how is atorvastatin calcium 80 mg po tabs taken?</td>\n",
       "      <td>select distinct medication.routeadmin from med...</td>\n",
       "      <td>This query is looking for all medications with...</td>\n",
       "      <td>column_jaccard</td>\n",
       "      <td>0</td>\n",
       "      <td>False</td>\n",
       "      <td>0.653431</td>\n",
       "      <td>0.766081</td>\n",
       "      <td>0.705286</td>\n",
       "    </tr>\n",
       "    <tr>\n",
       "      <th>3</th>\n",
       "      <td>what is metoprolol succinate er 50 mg po tb24'...</td>\n",
       "      <td>select distinct medication.routeadmin from med...</td>\n",
       "      <td>This query presents a list of distinct medicat...</td>\n",
       "      <td>column_jaccard</td>\n",
       "      <td>0</td>\n",
       "      <td>False</td>\n",
       "      <td>0.696146</td>\n",
       "      <td>0.752771</td>\n",
       "      <td>0.723352</td>\n",
       "    </tr>\n",
       "    <tr>\n",
       "      <th>4</th>\n",
       "      <td>tell me the price of a procedure called agent ...</td>\n",
       "      <td>select distinct cost.cost from cost where cost...</td>\n",
       "      <td>This query will return all of the different co...</td>\n",
       "      <td>column_jaccard</td>\n",
       "      <td>0</td>\n",
       "      <td>False</td>\n",
       "      <td>0.677709</td>\n",
       "      <td>0.668955</td>\n",
       "      <td>0.673304</td>\n",
       "    </tr>\n",
       "  </tbody>\n",
       "</table>\n",
       "</div>"
      ],
      "text/plain": [
       "                                            question  \\\n",
       "0  what is warfarin sodium 2.5 mg po tabs's way o...   \n",
       "1   what is the method for ingestion of ns 1,000 ml?   \n",
       "2   how is atorvastatin calcium 80 mg po tabs taken?   \n",
       "3  what is metoprolol succinate er 50 mg po tb24'...   \n",
       "4  tell me the price of a procedure called agent ...   \n",
       "\n",
       "                                               query  \\\n",
       "0  select distinct medication.routeadmin from med...   \n",
       "1  select distinct medication.routeadmin from med...   \n",
       "2  select distinct medication.routeadmin from med...   \n",
       "3  select distinct medication.routeadmin from med...   \n",
       "4  select distinct cost.cost from cost where cost...   \n",
       "\n",
       "                                          generation retrieval_method  nshot  \\\n",
       "0  The query extracts all of the patient's medica...   column_jaccard      0   \n",
       "1  This query selects all the rows from the medic...   column_jaccard      0   \n",
       "2  This query is looking for all medications with...   column_jaccard      0   \n",
       "3  This query presents a list of distinct medicat...   column_jaccard      0   \n",
       "4  This query will return all of the different co...   column_jaccard      0   \n",
       "\n",
       "   masked  precision    recall        f1  \n",
       "0   False   0.590455  0.661140  0.623802  \n",
       "1   False   0.563709  0.675585  0.614598  \n",
       "2   False   0.653431  0.766081  0.705286  \n",
       "3   False   0.696146  0.752771  0.723352  \n",
       "4   False   0.677709  0.668955  0.673304  "
      ]
     },
     "execution_count": 4,
     "metadata": {},
     "output_type": "execute_result"
    }
   ],
   "source": [
    "# add zeroshot to all retrieval methods\n",
    "zeroshot = pd.DataFrame(df[df['nshot'] == 0])\n",
    "for retrieval_method in df['retrieval_method'].unique():\n",
    "    if retrieval_method != 'random':\n",
    "        zeroshot['retrieval_method'] = [retrieval_method] * len(zeroshot)\n",
    "        df = pd.concat([df, zeroshot])\n",
    "        \n",
    "print(len(df))\n",
    "print(df['retrieval_method'].value_counts())\n",
    "assert len(set(df['retrieval_method'].value_counts().to_list())) == 1\n",
    "df = df.sort_values(by=['retrieval_method', 'nshot']).reset_index(drop=True)\n",
    "df['generation'] = df['generation'].map(lambda i: i.strip())\n",
    "df.head()"
   ]
  },
  {
   "cell_type": "code",
   "execution_count": 5,
   "metadata": {},
   "outputs": [
    {
     "data": {
      "text/plain": [
       "{'question': \"what is warfarin sodium 2.5 mg po tabs's way of ingesting it?\",\n",
       " 'query': \"select distinct medication.routeadmin from medication where medication.drugname = 'warfarin sodium 2.5 mg po tabs'\",\n",
       " 'generation': \"The query extracts all of the patient's medication records that have the warfarin sodium 2.5 mg po tabs drug name in them.\",\n",
       " 'retrieval_method': 'column_jaccard',\n",
       " 'nshot': 0,\n",
       " 'masked': False,\n",
       " 'precision': 0.5904552937,\n",
       " 'recall': 0.6611401439,\n",
       " 'f1': 0.6238017082}"
      ]
     },
     "execution_count": 5,
     "metadata": {},
     "output_type": "execute_result"
    }
   ],
   "source": [
    "next(df.iterrows())[1].to_dict()"
   ]
  },
  {
   "cell_type": "code",
   "execution_count": 6,
   "metadata": {},
   "outputs": [
    {
     "name": "stderr",
     "output_type": "stream",
     "text": [
      "Failed to detect the name of this notebook, you can set it manually with the WANDB_NOTEBOOK_NAME environment variable to enable code saving.\n",
      "\u001b[34m\u001b[1mwandb\u001b[0m: Currently logged in as: \u001b[33mbesalelir1\u001b[0m (\u001b[33mbesalelir1-team\u001b[0m). Use \u001b[1m`wandb login --relogin`\u001b[0m to force relogin\n",
      "\u001b[34m\u001b[1mwandb\u001b[0m: \u001b[33mWARNING\u001b[0m If you're specifying your api key in code, ensure this code is not shared publicly.\n",
      "\u001b[34m\u001b[1mwandb\u001b[0m: \u001b[33mWARNING\u001b[0m Consider setting the WANDB_API_KEY environment variable, or running `wandb login` from the command line.\n",
      "\u001b[34m\u001b[1mwandb\u001b[0m: Appending key for api.wandb.ai to your netrc file: /Users/razbesaleli/.netrc\n"
     ]
    }
   ],
   "source": [
    "wandb.login(key=open('.wandb_api_key').read())\n",
    "\n",
    "PROJECT_NAME = 'fewshot-sql-descriptions'"
   ]
  },
  {
   "cell_type": "code",
   "execution_count": 7,
   "metadata": {},
   "outputs": [
    {
     "data": {
      "text/html": [
       "Tracking run with wandb version 0.15.1"
      ],
      "text/plain": [
       "<IPython.core.display.HTML object>"
      ]
     },
     "metadata": {},
     "output_type": "display_data"
    },
    {
     "data": {
      "text/html": [
       "Run data is saved locally in <code>/Users/razbesaleli/fewshot-sql-descriptions/wandb/run-20230505_083941-n34t282k</code>"
      ],
      "text/plain": [
       "<IPython.core.display.HTML object>"
      ]
     },
     "metadata": {},
     "output_type": "display_data"
    },
    {
     "data": {
      "text/html": [
       "Syncing run <strong><a href='https://wandb.ai/besalelir1-team/fewshot-sql-descriptions/runs/n34t282k' target=\"_blank\">column_jaccard-unmasked-0shot</a></strong> to <a href='https://wandb.ai/besalelir1-team/fewshot-sql-descriptions' target=\"_blank\">Weights & Biases</a> (<a href='https://wandb.me/run' target=\"_blank\">docs</a>)<br/>"
      ],
      "text/plain": [
       "<IPython.core.display.HTML object>"
      ]
     },
     "metadata": {},
     "output_type": "display_data"
    },
    {
     "data": {
      "text/html": [
       " View project at <a href='https://wandb.ai/besalelir1-team/fewshot-sql-descriptions' target=\"_blank\">https://wandb.ai/besalelir1-team/fewshot-sql-descriptions</a>"
      ],
      "text/plain": [
       "<IPython.core.display.HTML object>"
      ]
     },
     "metadata": {},
     "output_type": "display_data"
    },
    {
     "data": {
      "text/html": [
       " View run at <a href='https://wandb.ai/besalelir1-team/fewshot-sql-descriptions/runs/n34t282k' target=\"_blank\">https://wandb.ai/besalelir1-team/fewshot-sql-descriptions/runs/n34t282k</a>"
      ],
      "text/plain": [
       "<IPython.core.display.HTML object>"
      ]
     },
     "metadata": {},
     "output_type": "display_data"
    },
    {
     "name": "stderr",
     "output_type": "stream",
     "text": [
      "100%|██████████| 755/755 [00:00<00:00, 10294.79it/s]\n"
     ]
    },
    {
     "data": {
      "text/html": [
       "Waiting for W&B process to finish... <strong style=\"color:green\">(success).</strong>"
      ],
      "text/plain": [
       "<IPython.core.display.HTML object>"
      ]
     },
     "metadata": {},
     "output_type": "display_data"
    },
    {
     "data": {
      "text/html": [
       "<style>\n",
       "    table.wandb td:nth-child(1) { padding: 0 10px; text-align: left ; width: auto;} td:nth-child(2) {text-align: left ; width: 100%}\n",
       "    .wandb-row { display: flex; flex-direction: row; flex-wrap: wrap; justify-content: flex-start; width: 100% }\n",
       "    .wandb-col { display: flex; flex-direction: column; flex-basis: 100%; flex: 1; padding: 10px; }\n",
       "    </style>\n",
       "<div class=\"wandb-row\"><div class=\"wandb-col\"><h3>Run history:</h3><br/><table class=\"wandb\"><tr><td>f1</td><td>▅▂▄▆▄▄▃▁▁▂▄▃▆▂█▁▂▄▁▅▂▄▃▃▆▃▂▅▅▅▄▆▅▄▃▄▅▂▅▃</td></tr><tr><td>masked</td><td>▁▁▁▁▁▁▁▁▁▁▁▁▁▁▁▁▁▁▁▁▁▁▁▁▁▁▁▁▁▁▁▁▁▁▁▁▁▁▁▁</td></tr><tr><td>nshot</td><td>▁▁▁▁▁▁▁▁▁▁▁▁▁▁▁▁▁▁▁▁▁▁▁▁▁▁▁▁▁▁▁▁▁▁▁▁▁▁▁▁</td></tr><tr><td>precision</td><td>▄▃▄▆▃▄▃▁▁▂▅▃▅▃█▁▃▃▂▆▃▄▃▂█▄▂▅▄▅▃▆▄▄▃▃▅▂▅▂</td></tr><tr><td>recall</td><td>▇▂▃▅▅▄▃▁▂▃▄▃▆▂█▂▁▄▁▅▂▄▂▅▅▃▂▆▇▆▅▆▅▅▃▅▅▃▆▄</td></tr></table><br/></div><div class=\"wandb-col\"><h3>Run summary:</h3><br/><table class=\"wandb\"><tr><td>f1</td><td>0.46228</td></tr><tr><td>generation</td><td>The query selects th...</td></tr><tr><td>masked</td><td>False</td></tr><tr><td>nshot</td><td>0</td></tr><tr><td>precision</td><td>0.4059</td></tr><tr><td>query</td><td>select t1.celllabel ...</td></tr><tr><td>question</td><td>what are the five mo...</td></tr><tr><td>recall</td><td>0.53684</td></tr><tr><td>retrieval_method</td><td>column_jaccard</td></tr></table><br/></div></div>"
      ],
      "text/plain": [
       "<IPython.core.display.HTML object>"
      ]
     },
     "metadata": {},
     "output_type": "display_data"
    },
    {
     "data": {
      "text/html": [
       " View run <strong style=\"color:#cdcd00\">column_jaccard-unmasked-0shot</strong> at: <a href='https://wandb.ai/besalelir1-team/fewshot-sql-descriptions/runs/n34t282k' target=\"_blank\">https://wandb.ai/besalelir1-team/fewshot-sql-descriptions/runs/n34t282k</a><br/>Synced 5 W&B file(s), 0 media file(s), 0 artifact file(s) and 0 other file(s)"
      ],
      "text/plain": [
       "<IPython.core.display.HTML object>"
      ]
     },
     "metadata": {},
     "output_type": "display_data"
    },
    {
     "data": {
      "text/html": [
       "Find logs at: <code>./wandb/run-20230505_083941-n34t282k/logs</code>"
      ],
      "text/plain": [
       "<IPython.core.display.HTML object>"
      ]
     },
     "metadata": {},
     "output_type": "display_data"
    },
    {
     "data": {
      "text/html": [
       "Tracking run with wandb version 0.15.1"
      ],
      "text/plain": [
       "<IPython.core.display.HTML object>"
      ]
     },
     "metadata": {},
     "output_type": "display_data"
    },
    {
     "data": {
      "text/html": [
       "Run data is saved locally in <code>/Users/razbesaleli/fewshot-sql-descriptions/wandb/run-20230505_083949-8tbjevs8</code>"
      ],
      "text/plain": [
       "<IPython.core.display.HTML object>"
      ]
     },
     "metadata": {},
     "output_type": "display_data"
    },
    {
     "data": {
      "text/html": [
       "Syncing run <strong><a href='https://wandb.ai/besalelir1-team/fewshot-sql-descriptions/runs/8tbjevs8' target=\"_blank\">column_jaccard-unmasked-1shot</a></strong> to <a href='https://wandb.ai/besalelir1-team/fewshot-sql-descriptions' target=\"_blank\">Weights & Biases</a> (<a href='https://wandb.me/run' target=\"_blank\">docs</a>)<br/>"
      ],
      "text/plain": [
       "<IPython.core.display.HTML object>"
      ]
     },
     "metadata": {},
     "output_type": "display_data"
    },
    {
     "data": {
      "text/html": [
       " View project at <a href='https://wandb.ai/besalelir1-team/fewshot-sql-descriptions' target=\"_blank\">https://wandb.ai/besalelir1-team/fewshot-sql-descriptions</a>"
      ],
      "text/plain": [
       "<IPython.core.display.HTML object>"
      ]
     },
     "metadata": {},
     "output_type": "display_data"
    },
    {
     "data": {
      "text/html": [
       " View run at <a href='https://wandb.ai/besalelir1-team/fewshot-sql-descriptions/runs/8tbjevs8' target=\"_blank\">https://wandb.ai/besalelir1-team/fewshot-sql-descriptions/runs/8tbjevs8</a>"
      ],
      "text/plain": [
       "<IPython.core.display.HTML object>"
      ]
     },
     "metadata": {},
     "output_type": "display_data"
    },
    {
     "name": "stderr",
     "output_type": "stream",
     "text": [
      "100%|██████████| 755/755 [00:00<00:00, 11605.20it/s]\n"
     ]
    },
    {
     "data": {
      "text/html": [
       "Waiting for W&B process to finish... <strong style=\"color:green\">(success).</strong>"
      ],
      "text/plain": [
       "<IPython.core.display.HTML object>"
      ]
     },
     "metadata": {},
     "output_type": "display_data"
    },
    {
     "data": {
      "text/html": [
       "<style>\n",
       "    table.wandb td:nth-child(1) { padding: 0 10px; text-align: left ; width: auto;} td:nth-child(2) {text-align: left ; width: 100%}\n",
       "    .wandb-row { display: flex; flex-direction: row; flex-wrap: wrap; justify-content: flex-start; width: 100% }\n",
       "    .wandb-col { display: flex; flex-direction: column; flex-basis: 100%; flex: 1; padding: 10px; }\n",
       "    </style>\n",
       "<div class=\"wandb-row\"><div class=\"wandb-col\"><h3>Run history:</h3><br/><table class=\"wandb\"><tr><td>f1</td><td>▅▃▅█▆▇▄▂▅▅▅▃▃▁▆▆▃▅▁▅█▅▄▇▄▄▁▅▇▇▇▆▇██▅█▇▆▃</td></tr><tr><td>masked</td><td>▁▁▁▁▁▁▁▁▁▁▁▁▁▁▁▁▁▁▁▁▁▁▁▁▁▁▁▁▁▁▁▁▁▁▁▁▁▁▁▁</td></tr><tr><td>nshot</td><td>▁▁▁▁▁▁▁▁▁▁▁▁▁▁▁▁▁▁▁▁▁▁▁▁▁▁▁▁▁▁▁▁▁▁▁▁▁▁▁▁</td></tr><tr><td>precision</td><td>▅▄▇█▆▇▃▂▅▆▅▃▃▂▆▆▃▅▂▆█▅▄▇▅▅▁▅▆▇▆▆▇▇▇▄█▆▆▃</td></tr><tr><td>recall</td><td>▆▃▄▇▆▇▅▃▆▅▅▃▄▁▇▆▃▄▂▅▇▄▅▆▃▃▂▆█▇▇▆███▆█▇▆▃</td></tr></table><br/></div><div class=\"wandb-col\"><h3>Run summary:</h3><br/><table class=\"wandb\"><tr><td>f1</td><td>0.78732</td></tr><tr><td>generation</td><td>What were the top fi...</td></tr><tr><td>masked</td><td>False</td></tr><tr><td>nshot</td><td>1</td></tr><tr><td>precision</td><td>0.77277</td></tr><tr><td>query</td><td>select t1.celllabel ...</td></tr><tr><td>question</td><td>what are the five mo...</td></tr><tr><td>recall</td><td>0.80243</td></tr><tr><td>retrieval_method</td><td>column_jaccard</td></tr></table><br/></div></div>"
      ],
      "text/plain": [
       "<IPython.core.display.HTML object>"
      ]
     },
     "metadata": {},
     "output_type": "display_data"
    },
    {
     "data": {
      "text/html": [
       " View run <strong style=\"color:#cdcd00\">column_jaccard-unmasked-1shot</strong> at: <a href='https://wandb.ai/besalelir1-team/fewshot-sql-descriptions/runs/8tbjevs8' target=\"_blank\">https://wandb.ai/besalelir1-team/fewshot-sql-descriptions/runs/8tbjevs8</a><br/>Synced 5 W&B file(s), 0 media file(s), 0 artifact file(s) and 0 other file(s)"
      ],
      "text/plain": [
       "<IPython.core.display.HTML object>"
      ]
     },
     "metadata": {},
     "output_type": "display_data"
    },
    {
     "data": {
      "text/html": [
       "Find logs at: <code>./wandb/run-20230505_083949-8tbjevs8/logs</code>"
      ],
      "text/plain": [
       "<IPython.core.display.HTML object>"
      ]
     },
     "metadata": {},
     "output_type": "display_data"
    },
    {
     "data": {
      "text/html": [
       "Tracking run with wandb version 0.15.1"
      ],
      "text/plain": [
       "<IPython.core.display.HTML object>"
      ]
     },
     "metadata": {},
     "output_type": "display_data"
    },
    {
     "data": {
      "text/html": [
       "Run data is saved locally in <code>/Users/razbesaleli/fewshot-sql-descriptions/wandb/run-20230505_084000-avjphmup</code>"
      ],
      "text/plain": [
       "<IPython.core.display.HTML object>"
      ]
     },
     "metadata": {},
     "output_type": "display_data"
    },
    {
     "data": {
      "text/html": [
       "Syncing run <strong><a href='https://wandb.ai/besalelir1-team/fewshot-sql-descriptions/runs/avjphmup' target=\"_blank\">column_jaccard-unmasked-2shot</a></strong> to <a href='https://wandb.ai/besalelir1-team/fewshot-sql-descriptions' target=\"_blank\">Weights & Biases</a> (<a href='https://wandb.me/run' target=\"_blank\">docs</a>)<br/>"
      ],
      "text/plain": [
       "<IPython.core.display.HTML object>"
      ]
     },
     "metadata": {},
     "output_type": "display_data"
    },
    {
     "data": {
      "text/html": [
       " View project at <a href='https://wandb.ai/besalelir1-team/fewshot-sql-descriptions' target=\"_blank\">https://wandb.ai/besalelir1-team/fewshot-sql-descriptions</a>"
      ],
      "text/plain": [
       "<IPython.core.display.HTML object>"
      ]
     },
     "metadata": {},
     "output_type": "display_data"
    },
    {
     "data": {
      "text/html": [
       " View run at <a href='https://wandb.ai/besalelir1-team/fewshot-sql-descriptions/runs/avjphmup' target=\"_blank\">https://wandb.ai/besalelir1-team/fewshot-sql-descriptions/runs/avjphmup</a>"
      ],
      "text/plain": [
       "<IPython.core.display.HTML object>"
      ]
     },
     "metadata": {},
     "output_type": "display_data"
    },
    {
     "name": "stderr",
     "output_type": "stream",
     "text": [
      "100%|██████████| 755/755 [00:00<00:00, 11600.74it/s]\n"
     ]
    },
    {
     "data": {
      "text/html": [
       "Waiting for W&B process to finish... <strong style=\"color:green\">(success).</strong>"
      ],
      "text/plain": [
       "<IPython.core.display.HTML object>"
      ]
     },
     "metadata": {},
     "output_type": "display_data"
    },
    {
     "data": {
      "text/html": [
       "<style>\n",
       "    table.wandb td:nth-child(1) { padding: 0 10px; text-align: left ; width: auto;} td:nth-child(2) {text-align: left ; width: 100%}\n",
       "    .wandb-row { display: flex; flex-direction: row; flex-wrap: wrap; justify-content: flex-start; width: 100% }\n",
       "    .wandb-col { display: flex; flex-direction: column; flex-basis: 100%; flex: 1; padding: 10px; }\n",
       "    </style>\n",
       "<div class=\"wandb-row\"><div class=\"wandb-col\"><h3>Run history:</h3><br/><table class=\"wandb\"><tr><td>f1</td><td>▆▅▄▅█▂▄▁▅▄▃▂▅▄▅▃▃▅▅▃█▆▄▆▃▄▇▇▆▅█▇▇▆▅▅▇▆▆▂</td></tr><tr><td>masked</td><td>▁▁▁▁▁▁▁▁▁▁▁▁▁▁▁▁▁▁▁▁▁▁▁▁▁▁▁▁▁▁▁▁▁▁▁▁▁▁▁▁</td></tr><tr><td>nshot</td><td>▁▁▁▁▁▁▁▁▁▁▁▁▁▁▁▁▁▁▁▁▁▁▁▁▁▁▁▁▁▁▁▁▁▁▁▁▁▁▁▁</td></tr><tr><td>precision</td><td>▅▅▅▆█▃▆▁▆▅▄▃▆▄▅▅▅▆▆▄▇▇▅▆▆▅▇▇▆▆██▇▆▆▅█▆▇▂</td></tr><tr><td>recall</td><td>▆▆▃▄█▂▃▄▆▅▂▂▅▄▅▃▂▅▅▂█▆▅▇▁▄▇▇▇▄█▇█▇▅▅▇▇▆▄</td></tr></table><br/></div><div class=\"wandb-col\"><h3>Run summary:</h3><br/><table class=\"wandb\"><tr><td>f1</td><td>0.78303</td></tr><tr><td>generation</td><td>what were the top fi...</td></tr><tr><td>masked</td><td>False</td></tr><tr><td>nshot</td><td>2</td></tr><tr><td>precision</td><td>0.76794</td></tr><tr><td>query</td><td>select t1.celllabel ...</td></tr><tr><td>question</td><td>what are the five mo...</td></tr><tr><td>recall</td><td>0.79872</td></tr><tr><td>retrieval_method</td><td>column_jaccard</td></tr></table><br/></div></div>"
      ],
      "text/plain": [
       "<IPython.core.display.HTML object>"
      ]
     },
     "metadata": {},
     "output_type": "display_data"
    },
    {
     "data": {
      "text/html": [
       " View run <strong style=\"color:#cdcd00\">column_jaccard-unmasked-2shot</strong> at: <a href='https://wandb.ai/besalelir1-team/fewshot-sql-descriptions/runs/avjphmup' target=\"_blank\">https://wandb.ai/besalelir1-team/fewshot-sql-descriptions/runs/avjphmup</a><br/>Synced 5 W&B file(s), 0 media file(s), 0 artifact file(s) and 0 other file(s)"
      ],
      "text/plain": [
       "<IPython.core.display.HTML object>"
      ]
     },
     "metadata": {},
     "output_type": "display_data"
    },
    {
     "data": {
      "text/html": [
       "Find logs at: <code>./wandb/run-20230505_084000-avjphmup/logs</code>"
      ],
      "text/plain": [
       "<IPython.core.display.HTML object>"
      ]
     },
     "metadata": {},
     "output_type": "display_data"
    },
    {
     "data": {
      "text/html": [
       "Tracking run with wandb version 0.15.1"
      ],
      "text/plain": [
       "<IPython.core.display.HTML object>"
      ]
     },
     "metadata": {},
     "output_type": "display_data"
    },
    {
     "data": {
      "text/html": [
       "Run data is saved locally in <code>/Users/razbesaleli/fewshot-sql-descriptions/wandb/run-20230505_084008-9c0d3v2a</code>"
      ],
      "text/plain": [
       "<IPython.core.display.HTML object>"
      ]
     },
     "metadata": {},
     "output_type": "display_data"
    },
    {
     "data": {
      "text/html": [
       "Syncing run <strong><a href='https://wandb.ai/besalelir1-team/fewshot-sql-descriptions/runs/9c0d3v2a' target=\"_blank\">column_jaccard-unmasked-3shot</a></strong> to <a href='https://wandb.ai/besalelir1-team/fewshot-sql-descriptions' target=\"_blank\">Weights & Biases</a> (<a href='https://wandb.me/run' target=\"_blank\">docs</a>)<br/>"
      ],
      "text/plain": [
       "<IPython.core.display.HTML object>"
      ]
     },
     "metadata": {},
     "output_type": "display_data"
    },
    {
     "data": {
      "text/html": [
       " View project at <a href='https://wandb.ai/besalelir1-team/fewshot-sql-descriptions' target=\"_blank\">https://wandb.ai/besalelir1-team/fewshot-sql-descriptions</a>"
      ],
      "text/plain": [
       "<IPython.core.display.HTML object>"
      ]
     },
     "metadata": {},
     "output_type": "display_data"
    },
    {
     "data": {
      "text/html": [
       " View run at <a href='https://wandb.ai/besalelir1-team/fewshot-sql-descriptions/runs/9c0d3v2a' target=\"_blank\">https://wandb.ai/besalelir1-team/fewshot-sql-descriptions/runs/9c0d3v2a</a>"
      ],
      "text/plain": [
       "<IPython.core.display.HTML object>"
      ]
     },
     "metadata": {},
     "output_type": "display_data"
    },
    {
     "name": "stderr",
     "output_type": "stream",
     "text": [
      "100%|██████████| 755/755 [00:00<00:00, 11135.02it/s]\n"
     ]
    },
    {
     "data": {
      "text/html": [
       "Waiting for W&B process to finish... <strong style=\"color:green\">(success).</strong>"
      ],
      "text/plain": [
       "<IPython.core.display.HTML object>"
      ]
     },
     "metadata": {},
     "output_type": "display_data"
    },
    {
     "data": {
      "text/html": [
       "<style>\n",
       "    table.wandb td:nth-child(1) { padding: 0 10px; text-align: left ; width: auto;} td:nth-child(2) {text-align: left ; width: 100%}\n",
       "    .wandb-row { display: flex; flex-direction: row; flex-wrap: wrap; justify-content: flex-start; width: 100% }\n",
       "    .wandb-col { display: flex; flex-direction: column; flex-basis: 100%; flex: 1; padding: 10px; }\n",
       "    </style>\n",
       "<div class=\"wandb-row\"><div class=\"wandb-col\"><h3>Run history:</h3><br/><table class=\"wandb\"><tr><td>f1</td><td>▆▆▅▆▇▇▄▁▆▃▄▅▄▄▇▅▃▄▆▅▇▆▆▇▆▅█▇▇▆▇▆█▇▆▇▇▅▇▇</td></tr><tr><td>masked</td><td>▁▁▁▁▁▁▁▁▁▁▁▁▁▁▁▁▁▁▁▁▁▁▁▁▁▁▁▁▁▁▁▁▁▁▁▁▁▁▁▁</td></tr><tr><td>nshot</td><td>▁▁▁▁▁▁▁▁▁▁▁▁▁▁▁▁▁▁▁▁▁▁▁▁▁▁▁▁▁▁▁▁▁▁▁▁▁▁▁▁</td></tr><tr><td>precision</td><td>▅▇▅▆▇▇▅▁▆▃▄▅▅▄▇▅▃▅▆▅▇▆▆▇▆▆█▇▇▆█▆█▆▆▇█▅▇▆</td></tr><tr><td>recall</td><td>▆▆▄▆▇▇▄▁▆▃▃▅▄▄▇▅▃▃▆▅▇▆▆▇▅▅█▇█▅▇▅█▇▆▇▇▅▆▇</td></tr></table><br/></div><div class=\"wandb-col\"><h3>Run summary:</h3><br/><table class=\"wandb\"><tr><td>f1</td><td>0.85858</td></tr><tr><td>generation</td><td>what are the top 5 o...</td></tr><tr><td>masked</td><td>False</td></tr><tr><td>nshot</td><td>3</td></tr><tr><td>precision</td><td>0.85665</td></tr><tr><td>query</td><td>select t1.celllabel ...</td></tr><tr><td>question</td><td>what are the five mo...</td></tr><tr><td>recall</td><td>0.86052</td></tr><tr><td>retrieval_method</td><td>column_jaccard</td></tr></table><br/></div></div>"
      ],
      "text/plain": [
       "<IPython.core.display.HTML object>"
      ]
     },
     "metadata": {},
     "output_type": "display_data"
    },
    {
     "data": {
      "text/html": [
       " View run <strong style=\"color:#cdcd00\">column_jaccard-unmasked-3shot</strong> at: <a href='https://wandb.ai/besalelir1-team/fewshot-sql-descriptions/runs/9c0d3v2a' target=\"_blank\">https://wandb.ai/besalelir1-team/fewshot-sql-descriptions/runs/9c0d3v2a</a><br/>Synced 5 W&B file(s), 0 media file(s), 0 artifact file(s) and 0 other file(s)"
      ],
      "text/plain": [
       "<IPython.core.display.HTML object>"
      ]
     },
     "metadata": {},
     "output_type": "display_data"
    },
    {
     "data": {
      "text/html": [
       "Find logs at: <code>./wandb/run-20230505_084008-9c0d3v2a/logs</code>"
      ],
      "text/plain": [
       "<IPython.core.display.HTML object>"
      ]
     },
     "metadata": {},
     "output_type": "display_data"
    },
    {
     "data": {
      "text/html": [
       "Tracking run with wandb version 0.15.1"
      ],
      "text/plain": [
       "<IPython.core.display.HTML object>"
      ]
     },
     "metadata": {},
     "output_type": "display_data"
    },
    {
     "data": {
      "text/html": [
       "Run data is saved locally in <code>/Users/razbesaleli/fewshot-sql-descriptions/wandb/run-20230505_084016-cjg3tpa8</code>"
      ],
      "text/plain": [
       "<IPython.core.display.HTML object>"
      ]
     },
     "metadata": {},
     "output_type": "display_data"
    },
    {
     "data": {
      "text/html": [
       "Syncing run <strong><a href='https://wandb.ai/besalelir1-team/fewshot-sql-descriptions/runs/cjg3tpa8' target=\"_blank\">column_jaccard-masked-0shot</a></strong> to <a href='https://wandb.ai/besalelir1-team/fewshot-sql-descriptions' target=\"_blank\">Weights & Biases</a> (<a href='https://wandb.me/run' target=\"_blank\">docs</a>)<br/>"
      ],
      "text/plain": [
       "<IPython.core.display.HTML object>"
      ]
     },
     "metadata": {},
     "output_type": "display_data"
    },
    {
     "data": {
      "text/html": [
       " View project at <a href='https://wandb.ai/besalelir1-team/fewshot-sql-descriptions' target=\"_blank\">https://wandb.ai/besalelir1-team/fewshot-sql-descriptions</a>"
      ],
      "text/plain": [
       "<IPython.core.display.HTML object>"
      ]
     },
     "metadata": {},
     "output_type": "display_data"
    },
    {
     "data": {
      "text/html": [
       " View run at <a href='https://wandb.ai/besalelir1-team/fewshot-sql-descriptions/runs/cjg3tpa8' target=\"_blank\">https://wandb.ai/besalelir1-team/fewshot-sql-descriptions/runs/cjg3tpa8</a>"
      ],
      "text/plain": [
       "<IPython.core.display.HTML object>"
      ]
     },
     "metadata": {},
     "output_type": "display_data"
    },
    {
     "name": "stderr",
     "output_type": "stream",
     "text": [
      "100%|██████████| 755/755 [00:00<00:00, 11086.76it/s]\n"
     ]
    },
    {
     "data": {
      "text/html": [
       "Waiting for W&B process to finish... <strong style=\"color:green\">(success).</strong>"
      ],
      "text/plain": [
       "<IPython.core.display.HTML object>"
      ]
     },
     "metadata": {},
     "output_type": "display_data"
    },
    {
     "data": {
      "text/html": [
       "<style>\n",
       "    table.wandb td:nth-child(1) { padding: 0 10px; text-align: left ; width: auto;} td:nth-child(2) {text-align: left ; width: 100%}\n",
       "    .wandb-row { display: flex; flex-direction: row; flex-wrap: wrap; justify-content: flex-start; width: 100% }\n",
       "    .wandb-col { display: flex; flex-direction: column; flex-basis: 100%; flex: 1; padding: 10px; }\n",
       "    </style>\n",
       "<div class=\"wandb-row\"><div class=\"wandb-col\"><h3>Run history:</h3><br/><table class=\"wandb\"><tr><td>f1</td><td>▃▅▂▂▁▁▁▆▄▂▅▃▂▁█▃▃▁▄▅▂▅▂▄▃▃▂▃▄▆▅▁▄▂▂▄▆▃▂▂</td></tr><tr><td>masked</td><td>▁▁▁▁▁▁▁▁▁▁▁▁▁▁▁▁▁▁▁▁▁▁▁▁▁▁▁▁▁▁▁▁▁▁▁▁▁▁▁▁</td></tr><tr><td>nshot</td><td>▁▁▁▁▁▁▁▁▁▁▁▁▁▁▁▁▁▁▁▁▁▁▁▁▁▁▁▁▁▁▁▁▁▁▁▁▁▁▁▁</td></tr><tr><td>precision</td><td>▃▅▃▃▂▁▁▆▄▄▆▅▂▁█▄▃▂▃▇▄▆▃▄▃▃▃▂▄▆▄▂▆▁▃▃▇▃▃▂</td></tr><tr><td>recall</td><td>▅▅▂▃▁▂▂▅▄▂▄▂▂▂█▃▃▂▅▄▂▄▂▅▃▄▁▄▆▅▆▁▃▃▂▄▅▄▂▂</td></tr></table><br/></div><div class=\"wandb-col\"><h3>Run summary:</h3><br/><table class=\"wandb\"><tr><td>f1</td><td>0.4558</td></tr><tr><td>generation</td><td>The query selects al...</td></tr><tr><td>masked</td><td>True</td></tr><tr><td>nshot</td><td>0</td></tr><tr><td>precision</td><td>0.38503</td></tr><tr><td>query</td><td>select t1.celllabel ...</td></tr><tr><td>question</td><td>what are the five mo...</td></tr><tr><td>recall</td><td>0.55846</td></tr><tr><td>retrieval_method</td><td>column_jaccard</td></tr></table><br/></div></div>"
      ],
      "text/plain": [
       "<IPython.core.display.HTML object>"
      ]
     },
     "metadata": {},
     "output_type": "display_data"
    },
    {
     "data": {
      "text/html": [
       " View run <strong style=\"color:#cdcd00\">column_jaccard-masked-0shot</strong> at: <a href='https://wandb.ai/besalelir1-team/fewshot-sql-descriptions/runs/cjg3tpa8' target=\"_blank\">https://wandb.ai/besalelir1-team/fewshot-sql-descriptions/runs/cjg3tpa8</a><br/>Synced 5 W&B file(s), 0 media file(s), 0 artifact file(s) and 0 other file(s)"
      ],
      "text/plain": [
       "<IPython.core.display.HTML object>"
      ]
     },
     "metadata": {},
     "output_type": "display_data"
    },
    {
     "data": {
      "text/html": [
       "Find logs at: <code>./wandb/run-20230505_084016-cjg3tpa8/logs</code>"
      ],
      "text/plain": [
       "<IPython.core.display.HTML object>"
      ]
     },
     "metadata": {},
     "output_type": "display_data"
    },
    {
     "data": {
      "text/html": [
       "Tracking run with wandb version 0.15.1"
      ],
      "text/plain": [
       "<IPython.core.display.HTML object>"
      ]
     },
     "metadata": {},
     "output_type": "display_data"
    },
    {
     "data": {
      "text/html": [
       "Run data is saved locally in <code>/Users/razbesaleli/fewshot-sql-descriptions/wandb/run-20230505_084024-j4nn6fu3</code>"
      ],
      "text/plain": [
       "<IPython.core.display.HTML object>"
      ]
     },
     "metadata": {},
     "output_type": "display_data"
    },
    {
     "data": {
      "text/html": [
       "Syncing run <strong><a href='https://wandb.ai/besalelir1-team/fewshot-sql-descriptions/runs/j4nn6fu3' target=\"_blank\">column_jaccard-masked-1shot</a></strong> to <a href='https://wandb.ai/besalelir1-team/fewshot-sql-descriptions' target=\"_blank\">Weights & Biases</a> (<a href='https://wandb.me/run' target=\"_blank\">docs</a>)<br/>"
      ],
      "text/plain": [
       "<IPython.core.display.HTML object>"
      ]
     },
     "metadata": {},
     "output_type": "display_data"
    },
    {
     "data": {
      "text/html": [
       " View project at <a href='https://wandb.ai/besalelir1-team/fewshot-sql-descriptions' target=\"_blank\">https://wandb.ai/besalelir1-team/fewshot-sql-descriptions</a>"
      ],
      "text/plain": [
       "<IPython.core.display.HTML object>"
      ]
     },
     "metadata": {},
     "output_type": "display_data"
    },
    {
     "data": {
      "text/html": [
       " View run at <a href='https://wandb.ai/besalelir1-team/fewshot-sql-descriptions/runs/j4nn6fu3' target=\"_blank\">https://wandb.ai/besalelir1-team/fewshot-sql-descriptions/runs/j4nn6fu3</a>"
      ],
      "text/plain": [
       "<IPython.core.display.HTML object>"
      ]
     },
     "metadata": {},
     "output_type": "display_data"
    },
    {
     "name": "stderr",
     "output_type": "stream",
     "text": [
      "100%|██████████| 755/755 [00:00<00:00, 11240.63it/s]\n"
     ]
    },
    {
     "data": {
      "text/html": [
       "Waiting for W&B process to finish... <strong style=\"color:green\">(success).</strong>"
      ],
      "text/plain": [
       "<IPython.core.display.HTML object>"
      ]
     },
     "metadata": {},
     "output_type": "display_data"
    },
    {
     "data": {
      "text/html": [
       "<style>\n",
       "    table.wandb td:nth-child(1) { padding: 0 10px; text-align: left ; width: auto;} td:nth-child(2) {text-align: left ; width: 100%}\n",
       "    .wandb-row { display: flex; flex-direction: row; flex-wrap: wrap; justify-content: flex-start; width: 100% }\n",
       "    .wandb-col { display: flex; flex-direction: column; flex-basis: 100%; flex: 1; padding: 10px; }\n",
       "    </style>\n",
       "<div class=\"wandb-row\"><div class=\"wandb-col\"><h3>Run history:</h3><br/><table class=\"wandb\"><tr><td>f1</td><td>▅▅▃▆▁▄▃▄▃▆▅▄▅▃▆▄▃▂▅▅▇▃▃▅▄▃█▅▄▆▄▄▆▇▇▄▇▄▅▄</td></tr><tr><td>masked</td><td>▁▁▁▁▁▁▁▁▁▁▁▁▁▁▁▁▁▁▁▁▁▁▁▁▁▁▁▁▁▁▁▁▁▁▁▁▁▁▁▁</td></tr><tr><td>nshot</td><td>▁▁▁▁▁▁▁▁▁▁▁▁▁▁▁▁▁▁▁▁▁▁▁▁▁▁▁▁▁▁▁▁▁▁▁▁▁▁▁▁</td></tr><tr><td>precision</td><td>▄▄▃▇▁▄▃▄▃▆▅▄▅▃▆▄▃▂▅▅▇▃▃▆▅▃█▅▃▆▄▅▆▆▆▃▇▃▅▄</td></tr><tr><td>recall</td><td>▆▅▃▆▁▄▃▅▃▆▅▅▅▃▆▃▃▂▆▄▇▃▃▅▃▃█▆▄▆▅▄▇▇▇▅▇▅▄▅</td></tr></table><br/></div><div class=\"wandb-col\"><h3>Run summary:</h3><br/><table class=\"wandb\"><tr><td>f1</td><td>0.55462</td></tr><tr><td>generation</td><td>filter intakeoutput ...</td></tr><tr><td>masked</td><td>True</td></tr><tr><td>nshot</td><td>1</td></tr><tr><td>precision</td><td>0.54079</td></tr><tr><td>query</td><td>select t1.celllabel ...</td></tr><tr><td>question</td><td>what are the five mo...</td></tr><tr><td>recall</td><td>0.56918</td></tr><tr><td>retrieval_method</td><td>column_jaccard</td></tr></table><br/></div></div>"
      ],
      "text/plain": [
       "<IPython.core.display.HTML object>"
      ]
     },
     "metadata": {},
     "output_type": "display_data"
    },
    {
     "data": {
      "text/html": [
       " View run <strong style=\"color:#cdcd00\">column_jaccard-masked-1shot</strong> at: <a href='https://wandb.ai/besalelir1-team/fewshot-sql-descriptions/runs/j4nn6fu3' target=\"_blank\">https://wandb.ai/besalelir1-team/fewshot-sql-descriptions/runs/j4nn6fu3</a><br/>Synced 5 W&B file(s), 0 media file(s), 0 artifact file(s) and 0 other file(s)"
      ],
      "text/plain": [
       "<IPython.core.display.HTML object>"
      ]
     },
     "metadata": {},
     "output_type": "display_data"
    },
    {
     "data": {
      "text/html": [
       "Find logs at: <code>./wandb/run-20230505_084024-j4nn6fu3/logs</code>"
      ],
      "text/plain": [
       "<IPython.core.display.HTML object>"
      ]
     },
     "metadata": {},
     "output_type": "display_data"
    },
    {
     "data": {
      "text/html": [
       "Tracking run with wandb version 0.15.1"
      ],
      "text/plain": [
       "<IPython.core.display.HTML object>"
      ]
     },
     "metadata": {},
     "output_type": "display_data"
    },
    {
     "data": {
      "text/html": [
       "Run data is saved locally in <code>/Users/razbesaleli/fewshot-sql-descriptions/wandb/run-20230505_084033-l7p49o9u</code>"
      ],
      "text/plain": [
       "<IPython.core.display.HTML object>"
      ]
     },
     "metadata": {},
     "output_type": "display_data"
    },
    {
     "data": {
      "text/html": [
       "Syncing run <strong><a href='https://wandb.ai/besalelir1-team/fewshot-sql-descriptions/runs/l7p49o9u' target=\"_blank\">column_jaccard-masked-2shot</a></strong> to <a href='https://wandb.ai/besalelir1-team/fewshot-sql-descriptions' target=\"_blank\">Weights & Biases</a> (<a href='https://wandb.me/run' target=\"_blank\">docs</a>)<br/>"
      ],
      "text/plain": [
       "<IPython.core.display.HTML object>"
      ]
     },
     "metadata": {},
     "output_type": "display_data"
    },
    {
     "data": {
      "text/html": [
       " View project at <a href='https://wandb.ai/besalelir1-team/fewshot-sql-descriptions' target=\"_blank\">https://wandb.ai/besalelir1-team/fewshot-sql-descriptions</a>"
      ],
      "text/plain": [
       "<IPython.core.display.HTML object>"
      ]
     },
     "metadata": {},
     "output_type": "display_data"
    },
    {
     "data": {
      "text/html": [
       " View run at <a href='https://wandb.ai/besalelir1-team/fewshot-sql-descriptions/runs/l7p49o9u' target=\"_blank\">https://wandb.ai/besalelir1-team/fewshot-sql-descriptions/runs/l7p49o9u</a>"
      ],
      "text/plain": [
       "<IPython.core.display.HTML object>"
      ]
     },
     "metadata": {},
     "output_type": "display_data"
    },
    {
     "name": "stderr",
     "output_type": "stream",
     "text": [
      "100%|██████████| 755/755 [00:00<00:00, 11513.93it/s]\n"
     ]
    },
    {
     "data": {
      "text/html": [
       "Waiting for W&B process to finish... <strong style=\"color:green\">(success).</strong>"
      ],
      "text/plain": [
       "<IPython.core.display.HTML object>"
      ]
     },
     "metadata": {},
     "output_type": "display_data"
    },
    {
     "data": {
      "text/html": [
       "<style>\n",
       "    table.wandb td:nth-child(1) { padding: 0 10px; text-align: left ; width: auto;} td:nth-child(2) {text-align: left ; width: 100%}\n",
       "    .wandb-row { display: flex; flex-direction: row; flex-wrap: wrap; justify-content: flex-start; width: 100% }\n",
       "    .wandb-col { display: flex; flex-direction: column; flex-basis: 100%; flex: 1; padding: 10px; }\n",
       "    </style>\n",
       "<div class=\"wandb-row\"><div class=\"wandb-col\"><h3>Run history:</h3><br/><table class=\"wandb\"><tr><td>f1</td><td>▆▆▃▇▇▆▅▄▄▂▄▅▂▁▆▅▄▅▆▂▆▃▆▆▃▅▆▆▇▄█▆▇▆▆▃▇▄▃▂</td></tr><tr><td>masked</td><td>▁▁▁▁▁▁▁▁▁▁▁▁▁▁▁▁▁▁▁▁▁▁▁▁▁▁▁▁▁▁▁▁▁▁▁▁▁▁▁▁</td></tr><tr><td>nshot</td><td>▁▁▁▁▁▁▁▁▁▁▁▁▁▁▁▁▁▁▁▁▁▁▁▁▁▁▁▁▁▁▁▁▁▁▁▁▁▁▁▁</td></tr><tr><td>precision</td><td>▅▆▅█▇▅▅▄▃▂▅▅▃▁▆▆▄▆▆▃▅▃▆▇▃▅▇▇▆▄██▇▆▆▂▇▄▃▁</td></tr><tr><td>recall</td><td>▆▆▃▇▇▆▄▄▅▂▃▄▂▁▇▅▃▃▅▂▇▃▆▆▃▄▅▅▇▄█▅▆▆▆▃▇▄▃▃</td></tr></table><br/></div><div class=\"wandb-col\"><h3>Run summary:</h3><br/><table class=\"wandb\"><tr><td>f1</td><td>0.68565</td></tr><tr><td>generation</td><td>show me the top five...</td></tr><tr><td>masked</td><td>True</td></tr><tr><td>nshot</td><td>2</td></tr><tr><td>precision</td><td>0.67337</td></tr><tr><td>query</td><td>select t1.celllabel ...</td></tr><tr><td>question</td><td>what are the five mo...</td></tr><tr><td>recall</td><td>0.69839</td></tr><tr><td>retrieval_method</td><td>column_jaccard</td></tr></table><br/></div></div>"
      ],
      "text/plain": [
       "<IPython.core.display.HTML object>"
      ]
     },
     "metadata": {},
     "output_type": "display_data"
    },
    {
     "data": {
      "text/html": [
       " View run <strong style=\"color:#cdcd00\">column_jaccard-masked-2shot</strong> at: <a href='https://wandb.ai/besalelir1-team/fewshot-sql-descriptions/runs/l7p49o9u' target=\"_blank\">https://wandb.ai/besalelir1-team/fewshot-sql-descriptions/runs/l7p49o9u</a><br/>Synced 5 W&B file(s), 0 media file(s), 0 artifact file(s) and 0 other file(s)"
      ],
      "text/plain": [
       "<IPython.core.display.HTML object>"
      ]
     },
     "metadata": {},
     "output_type": "display_data"
    },
    {
     "data": {
      "text/html": [
       "Find logs at: <code>./wandb/run-20230505_084033-l7p49o9u/logs</code>"
      ],
      "text/plain": [
       "<IPython.core.display.HTML object>"
      ]
     },
     "metadata": {},
     "output_type": "display_data"
    },
    {
     "data": {
      "text/html": [
       "Tracking run with wandb version 0.15.1"
      ],
      "text/plain": [
       "<IPython.core.display.HTML object>"
      ]
     },
     "metadata": {},
     "output_type": "display_data"
    },
    {
     "data": {
      "text/html": [
       "Run data is saved locally in <code>/Users/razbesaleli/fewshot-sql-descriptions/wandb/run-20230505_084040-ivjmwzuo</code>"
      ],
      "text/plain": [
       "<IPython.core.display.HTML object>"
      ]
     },
     "metadata": {},
     "output_type": "display_data"
    },
    {
     "data": {
      "text/html": [
       "Syncing run <strong><a href='https://wandb.ai/besalelir1-team/fewshot-sql-descriptions/runs/ivjmwzuo' target=\"_blank\">column_jaccard-masked-3shot</a></strong> to <a href='https://wandb.ai/besalelir1-team/fewshot-sql-descriptions' target=\"_blank\">Weights & Biases</a> (<a href='https://wandb.me/run' target=\"_blank\">docs</a>)<br/>"
      ],
      "text/plain": [
       "<IPython.core.display.HTML object>"
      ]
     },
     "metadata": {},
     "output_type": "display_data"
    },
    {
     "data": {
      "text/html": [
       " View project at <a href='https://wandb.ai/besalelir1-team/fewshot-sql-descriptions' target=\"_blank\">https://wandb.ai/besalelir1-team/fewshot-sql-descriptions</a>"
      ],
      "text/plain": [
       "<IPython.core.display.HTML object>"
      ]
     },
     "metadata": {},
     "output_type": "display_data"
    },
    {
     "data": {
      "text/html": [
       " View run at <a href='https://wandb.ai/besalelir1-team/fewshot-sql-descriptions/runs/ivjmwzuo' target=\"_blank\">https://wandb.ai/besalelir1-team/fewshot-sql-descriptions/runs/ivjmwzuo</a>"
      ],
      "text/plain": [
       "<IPython.core.display.HTML object>"
      ]
     },
     "metadata": {},
     "output_type": "display_data"
    },
    {
     "name": "stderr",
     "output_type": "stream",
     "text": [
      "100%|██████████| 755/755 [00:00<00:00, 10465.21it/s]\n"
     ]
    },
    {
     "data": {
      "text/html": [
       "Waiting for W&B process to finish... <strong style=\"color:green\">(success).</strong>"
      ],
      "text/plain": [
       "<IPython.core.display.HTML object>"
      ]
     },
     "metadata": {},
     "output_type": "display_data"
    },
    {
     "data": {
      "text/html": [
       "<style>\n",
       "    table.wandb td:nth-child(1) { padding: 0 10px; text-align: left ; width: auto;} td:nth-child(2) {text-align: left ; width: 100%}\n",
       "    .wandb-row { display: flex; flex-direction: row; flex-wrap: wrap; justify-content: flex-start; width: 100% }\n",
       "    .wandb-col { display: flex; flex-direction: column; flex-basis: 100%; flex: 1; padding: 10px; }\n",
       "    </style>\n",
       "<div class=\"wandb-row\"><div class=\"wandb-col\"><h3>Run history:</h3><br/><table class=\"wandb\"><tr><td>f1</td><td>▅█▂▇▆▇▁▅▆▆▅▂▃▄▆▅▄▃▄▃▆▅▅▇▅▆█▆▇▅▅▅█▇▅▇▆▆▆▇</td></tr><tr><td>masked</td><td>▁▁▁▁▁▁▁▁▁▁▁▁▁▁▁▁▁▁▁▁▁▁▁▁▁▁▁▁▁▁▁▁▁▁▁▁▁▁▁▁</td></tr><tr><td>nshot</td><td>▁▁▁▁▁▁▁▁▁▁▁▁▁▁▁▁▁▁▁▁▁▁▁▁▁▁▁▁▁▁▁▁▁▁▁▁▁▁▁▁</td></tr><tr><td>precision</td><td>▅█▃▇▆▇▁▅▆▆▆▃▄▅▆▆▅▄▄▄▆▅▆▇▆▇█▆▆▅▅▆█▇▅▇▆▆▆▇</td></tr><tr><td>recall</td><td>▆█▂▇▅▇▂▄▆▆▃▁▃▄▆▄▃▂▄▃▆▅▅▇▄▆█▆▇▅▆▄█▇▅█▆▆▅▇</td></tr></table><br/></div><div class=\"wandb-col\"><h3>Run summary:</h3><br/><table class=\"wandb\"><tr><td>f1</td><td>0.88785</td></tr><tr><td>generation</td><td>what are the top fiv...</td></tr><tr><td>masked</td><td>True</td></tr><tr><td>nshot</td><td>3</td></tr><tr><td>precision</td><td>0.86758</td></tr><tr><td>query</td><td>select t1.celllabel ...</td></tr><tr><td>question</td><td>what are the five mo...</td></tr><tr><td>recall</td><td>0.90908</td></tr><tr><td>retrieval_method</td><td>column_jaccard</td></tr></table><br/></div></div>"
      ],
      "text/plain": [
       "<IPython.core.display.HTML object>"
      ]
     },
     "metadata": {},
     "output_type": "display_data"
    },
    {
     "data": {
      "text/html": [
       " View run <strong style=\"color:#cdcd00\">column_jaccard-masked-3shot</strong> at: <a href='https://wandb.ai/besalelir1-team/fewshot-sql-descriptions/runs/ivjmwzuo' target=\"_blank\">https://wandb.ai/besalelir1-team/fewshot-sql-descriptions/runs/ivjmwzuo</a><br/>Synced 5 W&B file(s), 0 media file(s), 0 artifact file(s) and 0 other file(s)"
      ],
      "text/plain": [
       "<IPython.core.display.HTML object>"
      ]
     },
     "metadata": {},
     "output_type": "display_data"
    },
    {
     "data": {
      "text/html": [
       "Find logs at: <code>./wandb/run-20230505_084040-ivjmwzuo/logs</code>"
      ],
      "text/plain": [
       "<IPython.core.display.HTML object>"
      ]
     },
     "metadata": {},
     "output_type": "display_data"
    },
    {
     "data": {
      "text/html": [
       "Tracking run with wandb version 0.15.1"
      ],
      "text/plain": [
       "<IPython.core.display.HTML object>"
      ]
     },
     "metadata": {},
     "output_type": "display_data"
    },
    {
     "data": {
      "text/html": [
       "Run data is saved locally in <code>/Users/razbesaleli/fewshot-sql-descriptions/wandb/run-20230505_084048-o8pzrbat</code>"
      ],
      "text/plain": [
       "<IPython.core.display.HTML object>"
      ]
     },
     "metadata": {},
     "output_type": "display_data"
    },
    {
     "data": {
      "text/html": [
       "Syncing run <strong><a href='https://wandb.ai/besalelir1-team/fewshot-sql-descriptions/runs/o8pzrbat' target=\"_blank\">random-unmasked-0shot</a></strong> to <a href='https://wandb.ai/besalelir1-team/fewshot-sql-descriptions' target=\"_blank\">Weights & Biases</a> (<a href='https://wandb.me/run' target=\"_blank\">docs</a>)<br/>"
      ],
      "text/plain": [
       "<IPython.core.display.HTML object>"
      ]
     },
     "metadata": {},
     "output_type": "display_data"
    },
    {
     "data": {
      "text/html": [
       " View project at <a href='https://wandb.ai/besalelir1-team/fewshot-sql-descriptions' target=\"_blank\">https://wandb.ai/besalelir1-team/fewshot-sql-descriptions</a>"
      ],
      "text/plain": [
       "<IPython.core.display.HTML object>"
      ]
     },
     "metadata": {},
     "output_type": "display_data"
    },
    {
     "data": {
      "text/html": [
       " View run at <a href='https://wandb.ai/besalelir1-team/fewshot-sql-descriptions/runs/o8pzrbat' target=\"_blank\">https://wandb.ai/besalelir1-team/fewshot-sql-descriptions/runs/o8pzrbat</a>"
      ],
      "text/plain": [
       "<IPython.core.display.HTML object>"
      ]
     },
     "metadata": {},
     "output_type": "display_data"
    },
    {
     "name": "stderr",
     "output_type": "stream",
     "text": [
      "100%|██████████| 755/755 [00:00<00:00, 11719.62it/s]\n"
     ]
    },
    {
     "data": {
      "text/html": [
       "Waiting for W&B process to finish... <strong style=\"color:green\">(success).</strong>"
      ],
      "text/plain": [
       "<IPython.core.display.HTML object>"
      ]
     },
     "metadata": {},
     "output_type": "display_data"
    },
    {
     "data": {
      "text/html": [
       "<style>\n",
       "    table.wandb td:nth-child(1) { padding: 0 10px; text-align: left ; width: auto;} td:nth-child(2) {text-align: left ; width: 100%}\n",
       "    .wandb-row { display: flex; flex-direction: row; flex-wrap: wrap; justify-content: flex-start; width: 100% }\n",
       "    .wandb-col { display: flex; flex-direction: column; flex-basis: 100%; flex: 1; padding: 10px; }\n",
       "    </style>\n",
       "<div class=\"wandb-row\"><div class=\"wandb-col\"><h3>Run history:</h3><br/><table class=\"wandb\"><tr><td>f1</td><td>▅▂▄▆▄▄▃▁▁▂▄▃▆▂█▁▂▄▁▅▂▄▃▃▆▃▂▅▅▅▄▆▅▄▃▄▅▂▅▃</td></tr><tr><td>masked</td><td>▁▁▁▁▁▁▁▁▁▁▁▁▁▁▁▁▁▁▁▁▁▁▁▁▁▁▁▁▁▁▁▁▁▁▁▁▁▁▁▁</td></tr><tr><td>nshot</td><td>▁▁▁▁▁▁▁▁▁▁▁▁▁▁▁▁▁▁▁▁▁▁▁▁▁▁▁▁▁▁▁▁▁▁▁▁▁▁▁▁</td></tr><tr><td>precision</td><td>▄▃▄▆▃▄▃▁▁▂▅▃▅▃█▁▃▃▂▆▃▄▃▂█▄▂▅▄▅▃▆▄▄▃▃▅▂▅▂</td></tr><tr><td>recall</td><td>▇▂▃▅▅▄▃▁▂▃▄▃▆▂█▂▁▄▁▅▂▄▂▅▅▃▂▆▇▆▅▆▅▅▃▅▅▃▆▄</td></tr></table><br/></div><div class=\"wandb-col\"><h3>Run summary:</h3><br/><table class=\"wandb\"><tr><td>f1</td><td>0.46228</td></tr><tr><td>generation</td><td>The query selects th...</td></tr><tr><td>masked</td><td>False</td></tr><tr><td>nshot</td><td>0</td></tr><tr><td>precision</td><td>0.4059</td></tr><tr><td>query</td><td>select t1.celllabel ...</td></tr><tr><td>question</td><td>what are the five mo...</td></tr><tr><td>recall</td><td>0.53684</td></tr><tr><td>retrieval_method</td><td>random</td></tr></table><br/></div></div>"
      ],
      "text/plain": [
       "<IPython.core.display.HTML object>"
      ]
     },
     "metadata": {},
     "output_type": "display_data"
    },
    {
     "data": {
      "text/html": [
       " View run <strong style=\"color:#cdcd00\">random-unmasked-0shot</strong> at: <a href='https://wandb.ai/besalelir1-team/fewshot-sql-descriptions/runs/o8pzrbat' target=\"_blank\">https://wandb.ai/besalelir1-team/fewshot-sql-descriptions/runs/o8pzrbat</a><br/>Synced 5 W&B file(s), 0 media file(s), 0 artifact file(s) and 0 other file(s)"
      ],
      "text/plain": [
       "<IPython.core.display.HTML object>"
      ]
     },
     "metadata": {},
     "output_type": "display_data"
    },
    {
     "data": {
      "text/html": [
       "Find logs at: <code>./wandb/run-20230505_084048-o8pzrbat/logs</code>"
      ],
      "text/plain": [
       "<IPython.core.display.HTML object>"
      ]
     },
     "metadata": {},
     "output_type": "display_data"
    },
    {
     "data": {
      "text/html": [
       "Tracking run with wandb version 0.15.1"
      ],
      "text/plain": [
       "<IPython.core.display.HTML object>"
      ]
     },
     "metadata": {},
     "output_type": "display_data"
    },
    {
     "data": {
      "text/html": [
       "Run data is saved locally in <code>/Users/razbesaleli/fewshot-sql-descriptions/wandb/run-20230505_084055-k5mtxs2k</code>"
      ],
      "text/plain": [
       "<IPython.core.display.HTML object>"
      ]
     },
     "metadata": {},
     "output_type": "display_data"
    },
    {
     "data": {
      "text/html": [
       "Syncing run <strong><a href='https://wandb.ai/besalelir1-team/fewshot-sql-descriptions/runs/k5mtxs2k' target=\"_blank\">random-unmasked-1shot</a></strong> to <a href='https://wandb.ai/besalelir1-team/fewshot-sql-descriptions' target=\"_blank\">Weights & Biases</a> (<a href='https://wandb.me/run' target=\"_blank\">docs</a>)<br/>"
      ],
      "text/plain": [
       "<IPython.core.display.HTML object>"
      ]
     },
     "metadata": {},
     "output_type": "display_data"
    },
    {
     "data": {
      "text/html": [
       " View project at <a href='https://wandb.ai/besalelir1-team/fewshot-sql-descriptions' target=\"_blank\">https://wandb.ai/besalelir1-team/fewshot-sql-descriptions</a>"
      ],
      "text/plain": [
       "<IPython.core.display.HTML object>"
      ]
     },
     "metadata": {},
     "output_type": "display_data"
    },
    {
     "data": {
      "text/html": [
       " View run at <a href='https://wandb.ai/besalelir1-team/fewshot-sql-descriptions/runs/k5mtxs2k' target=\"_blank\">https://wandb.ai/besalelir1-team/fewshot-sql-descriptions/runs/k5mtxs2k</a>"
      ],
      "text/plain": [
       "<IPython.core.display.HTML object>"
      ]
     },
     "metadata": {},
     "output_type": "display_data"
    },
    {
     "name": "stderr",
     "output_type": "stream",
     "text": [
      "100%|██████████| 755/755 [00:00<00:00, 11235.65it/s]\n"
     ]
    },
    {
     "data": {
      "text/html": [
       "Waiting for W&B process to finish... <strong style=\"color:green\">(success).</strong>"
      ],
      "text/plain": [
       "<IPython.core.display.HTML object>"
      ]
     },
     "metadata": {},
     "output_type": "display_data"
    },
    {
     "data": {
      "text/html": [
       "<style>\n",
       "    table.wandb td:nth-child(1) { padding: 0 10px; text-align: left ; width: auto;} td:nth-child(2) {text-align: left ; width: 100%}\n",
       "    .wandb-row { display: flex; flex-direction: row; flex-wrap: wrap; justify-content: flex-start; width: 100% }\n",
       "    .wandb-col { display: flex; flex-direction: column; flex-basis: 100%; flex: 1; padding: 10px; }\n",
       "    </style>\n",
       "<div class=\"wandb-row\"><div class=\"wandb-col\"><h3>Run history:</h3><br/><table class=\"wandb\"><tr><td>f1</td><td>▂▂▃█▆▅▆▃▃▂▅▅▃▄▅▄▁▂▃▄▃▅▃▅▄▅▂▄▅▅▆▄▆▆▂▄▃▃▃▂</td></tr><tr><td>masked</td><td>▁▁▁▁▁▁▁▁▁▁▁▁▁▁▁▁▁▁▁▁▁▁▁▁▁▁▁▁▁▁▁▁▁▁▁▁▁▁▁▁</td></tr><tr><td>nshot</td><td>▁▁▁▁▁▁▁▁▁▁▁▁▁▁▁▁▁▁▁▁▁▁▁▁▁▁▁▁▁▁▁▁▁▁▁▁▁▁▁▁</td></tr><tr><td>precision</td><td>▂▂▃█▆▅▇▃▃▃▆▅▃▄▇▄▁▃▃▅▄▅▃▅▅▄▃▄▅▆▄▄▅▅▂▄▃▄▄▂</td></tr><tr><td>recall</td><td>▁▂▂█▅▅▅▃▃▁▄▅▃▄▄▄▁▂▃▄▃▄▃▅▃▅▂▄▅▅▇▃▆▇▂▄▂▃▃▃</td></tr></table><br/></div><div class=\"wandb-col\"><h3>Run summary:</h3><br/><table class=\"wandb\"><tr><td>f1</td><td>0.42291</td></tr><tr><td>generation</td><td>Select cells in the ...</td></tr><tr><td>masked</td><td>False</td></tr><tr><td>nshot</td><td>1</td></tr><tr><td>precision</td><td>0.34935</td></tr><tr><td>query</td><td>select t1.celllabel ...</td></tr><tr><td>question</td><td>what are the five mo...</td></tr><tr><td>recall</td><td>0.53571</td></tr><tr><td>retrieval_method</td><td>random</td></tr></table><br/></div></div>"
      ],
      "text/plain": [
       "<IPython.core.display.HTML object>"
      ]
     },
     "metadata": {},
     "output_type": "display_data"
    },
    {
     "data": {
      "text/html": [
       " View run <strong style=\"color:#cdcd00\">random-unmasked-1shot</strong> at: <a href='https://wandb.ai/besalelir1-team/fewshot-sql-descriptions/runs/k5mtxs2k' target=\"_blank\">https://wandb.ai/besalelir1-team/fewshot-sql-descriptions/runs/k5mtxs2k</a><br/>Synced 5 W&B file(s), 0 media file(s), 0 artifact file(s) and 0 other file(s)"
      ],
      "text/plain": [
       "<IPython.core.display.HTML object>"
      ]
     },
     "metadata": {},
     "output_type": "display_data"
    },
    {
     "data": {
      "text/html": [
       "Find logs at: <code>./wandb/run-20230505_084055-k5mtxs2k/logs</code>"
      ],
      "text/plain": [
       "<IPython.core.display.HTML object>"
      ]
     },
     "metadata": {},
     "output_type": "display_data"
    },
    {
     "data": {
      "text/html": [
       "Tracking run with wandb version 0.15.1"
      ],
      "text/plain": [
       "<IPython.core.display.HTML object>"
      ]
     },
     "metadata": {},
     "output_type": "display_data"
    },
    {
     "data": {
      "text/html": [
       "Run data is saved locally in <code>/Users/razbesaleli/fewshot-sql-descriptions/wandb/run-20230505_084103-32ktrbp1</code>"
      ],
      "text/plain": [
       "<IPython.core.display.HTML object>"
      ]
     },
     "metadata": {},
     "output_type": "display_data"
    },
    {
     "data": {
      "text/html": [
       "Syncing run <strong><a href='https://wandb.ai/besalelir1-team/fewshot-sql-descriptions/runs/32ktrbp1' target=\"_blank\">random-unmasked-2shot</a></strong> to <a href='https://wandb.ai/besalelir1-team/fewshot-sql-descriptions' target=\"_blank\">Weights & Biases</a> (<a href='https://wandb.me/run' target=\"_blank\">docs</a>)<br/>"
      ],
      "text/plain": [
       "<IPython.core.display.HTML object>"
      ]
     },
     "metadata": {},
     "output_type": "display_data"
    },
    {
     "data": {
      "text/html": [
       " View project at <a href='https://wandb.ai/besalelir1-team/fewshot-sql-descriptions' target=\"_blank\">https://wandb.ai/besalelir1-team/fewshot-sql-descriptions</a>"
      ],
      "text/plain": [
       "<IPython.core.display.HTML object>"
      ]
     },
     "metadata": {},
     "output_type": "display_data"
    },
    {
     "data": {
      "text/html": [
       " View run at <a href='https://wandb.ai/besalelir1-team/fewshot-sql-descriptions/runs/32ktrbp1' target=\"_blank\">https://wandb.ai/besalelir1-team/fewshot-sql-descriptions/runs/32ktrbp1</a>"
      ],
      "text/plain": [
       "<IPython.core.display.HTML object>"
      ]
     },
     "metadata": {},
     "output_type": "display_data"
    },
    {
     "name": "stderr",
     "output_type": "stream",
     "text": [
      "100%|██████████| 755/755 [00:00<00:00, 11556.16it/s]\n"
     ]
    },
    {
     "data": {
      "text/html": [
       "Waiting for W&B process to finish... <strong style=\"color:green\">(success).</strong>"
      ],
      "text/plain": [
       "<IPython.core.display.HTML object>"
      ]
     },
     "metadata": {},
     "output_type": "display_data"
    },
    {
     "data": {
      "text/html": [
       "<style>\n",
       "    table.wandb td:nth-child(1) { padding: 0 10px; text-align: left ; width: auto;} td:nth-child(2) {text-align: left ; width: 100%}\n",
       "    .wandb-row { display: flex; flex-direction: row; flex-wrap: wrap; justify-content: flex-start; width: 100% }\n",
       "    .wandb-col { display: flex; flex-direction: column; flex-basis: 100%; flex: 1; padding: 10px; }\n",
       "    </style>\n",
       "<div class=\"wandb-row\"><div class=\"wandb-col\"><h3>Run history:</h3><br/><table class=\"wandb\"><tr><td>f1</td><td>▆▄▃▆█▃▃▅▄▃▂▃▅▅▇▃▄▂▂▇▆▄▅▄▄▄▅▅▁▄▄▅▄▃▄▄▃▆▅▆</td></tr><tr><td>masked</td><td>▁▁▁▁▁▁▁▁▁▁▁▁▁▁▁▁▁▁▁▁▁▁▁▁▁▁▁▁▁▁▁▁▁▁▁▁▁▁▁▁</td></tr><tr><td>nshot</td><td>▁▁▁▁▁▁▁▁▁▁▁▁▁▁▁▁▁▁▁▁▁▁▁▁▁▁▁▁▁▁▁▁▁▁▁▁▁▁▁▁</td></tr><tr><td>precision</td><td>▆▅▄██▄▃▆▅▃▃▃▆▅█▄▄▃▄▇▆▄▅▅▆▅▅▆▁▆▄▅▄▃▄▄▄▆▇▆</td></tr><tr><td>recall</td><td>▆▅▃▅█▃▃▅▅▃▂▄▅▄▆▂▄▁▂▇▆▄▅▅▃▃▄▅▂▃▆▅▄▂▄▄▃▅▄▅</td></tr></table><br/></div><div class=\"wandb-col\"><h3>Run summary:</h3><br/><table class=\"wandb\"><tr><td>f1</td><td>0.55048</td></tr><tr><td>generation</td><td>are there any cells ...</td></tr><tr><td>masked</td><td>False</td></tr><tr><td>nshot</td><td>2</td></tr><tr><td>precision</td><td>0.48569</td></tr><tr><td>query</td><td>select t1.celllabel ...</td></tr><tr><td>question</td><td>what are the five mo...</td></tr><tr><td>recall</td><td>0.63521</td></tr><tr><td>retrieval_method</td><td>random</td></tr></table><br/></div></div>"
      ],
      "text/plain": [
       "<IPython.core.display.HTML object>"
      ]
     },
     "metadata": {},
     "output_type": "display_data"
    },
    {
     "data": {
      "text/html": [
       " View run <strong style=\"color:#cdcd00\">random-unmasked-2shot</strong> at: <a href='https://wandb.ai/besalelir1-team/fewshot-sql-descriptions/runs/32ktrbp1' target=\"_blank\">https://wandb.ai/besalelir1-team/fewshot-sql-descriptions/runs/32ktrbp1</a><br/>Synced 5 W&B file(s), 0 media file(s), 0 artifact file(s) and 0 other file(s)"
      ],
      "text/plain": [
       "<IPython.core.display.HTML object>"
      ]
     },
     "metadata": {},
     "output_type": "display_data"
    },
    {
     "data": {
      "text/html": [
       "Find logs at: <code>./wandb/run-20230505_084103-32ktrbp1/logs</code>"
      ],
      "text/plain": [
       "<IPython.core.display.HTML object>"
      ]
     },
     "metadata": {},
     "output_type": "display_data"
    },
    {
     "data": {
      "text/html": [
       "Tracking run with wandb version 0.15.1"
      ],
      "text/plain": [
       "<IPython.core.display.HTML object>"
      ]
     },
     "metadata": {},
     "output_type": "display_data"
    },
    {
     "data": {
      "text/html": [
       "Run data is saved locally in <code>/Users/razbesaleli/fewshot-sql-descriptions/wandb/run-20230505_084112-vxao19e4</code>"
      ],
      "text/plain": [
       "<IPython.core.display.HTML object>"
      ]
     },
     "metadata": {},
     "output_type": "display_data"
    },
    {
     "data": {
      "text/html": [
       "Syncing run <strong><a href='https://wandb.ai/besalelir1-team/fewshot-sql-descriptions/runs/vxao19e4' target=\"_blank\">random-unmasked-3shot</a></strong> to <a href='https://wandb.ai/besalelir1-team/fewshot-sql-descriptions' target=\"_blank\">Weights & Biases</a> (<a href='https://wandb.me/run' target=\"_blank\">docs</a>)<br/>"
      ],
      "text/plain": [
       "<IPython.core.display.HTML object>"
      ]
     },
     "metadata": {},
     "output_type": "display_data"
    },
    {
     "data": {
      "text/html": [
       " View project at <a href='https://wandb.ai/besalelir1-team/fewshot-sql-descriptions' target=\"_blank\">https://wandb.ai/besalelir1-team/fewshot-sql-descriptions</a>"
      ],
      "text/plain": [
       "<IPython.core.display.HTML object>"
      ]
     },
     "metadata": {},
     "output_type": "display_data"
    },
    {
     "data": {
      "text/html": [
       " View run at <a href='https://wandb.ai/besalelir1-team/fewshot-sql-descriptions/runs/vxao19e4' target=\"_blank\">https://wandb.ai/besalelir1-team/fewshot-sql-descriptions/runs/vxao19e4</a>"
      ],
      "text/plain": [
       "<IPython.core.display.HTML object>"
      ]
     },
     "metadata": {},
     "output_type": "display_data"
    },
    {
     "name": "stderr",
     "output_type": "stream",
     "text": [
      "100%|██████████| 755/755 [00:00<00:00, 11484.24it/s]\n"
     ]
    },
    {
     "data": {
      "text/html": [
       "Waiting for W&B process to finish... <strong style=\"color:green\">(success).</strong>"
      ],
      "text/plain": [
       "<IPython.core.display.HTML object>"
      ]
     },
     "metadata": {},
     "output_type": "display_data"
    },
    {
     "data": {
      "text/html": [
       "<style>\n",
       "    table.wandb td:nth-child(1) { padding: 0 10px; text-align: left ; width: auto;} td:nth-child(2) {text-align: left ; width: 100%}\n",
       "    .wandb-row { display: flex; flex-direction: row; flex-wrap: wrap; justify-content: flex-start; width: 100% }\n",
       "    .wandb-col { display: flex; flex-direction: column; flex-basis: 100%; flex: 1; padding: 10px; }\n",
       "    </style>\n",
       "<div class=\"wandb-row\"><div class=\"wandb-col\"><h3>Run history:</h3><br/><table class=\"wandb\"><tr><td>f1</td><td>▅▄▁██▇▅▅▅▆▆▂▆▂▆▅▂▃▄▄▆▅▅▅▄▆▅▁▂▅▃▃▄▃▃▄▆▁▄▂</td></tr><tr><td>masked</td><td>▁▁▁▁▁▁▁▁▁▁▁▁▁▁▁▁▁▁▁▁▁▁▁▁▁▁▁▁▁▁▁▁▁▁▁▁▁▁▁▁</td></tr><tr><td>nshot</td><td>▁▁▁▁▁▁▁▁▁▁▁▁▁▁▁▁▁▁▁▁▁▁▁▁▁▁▁▁▁▁▁▁▁▁▁▁▁▁▁▁</td></tr><tr><td>precision</td><td>▅▃▂██▇▅▅▄▆▆▄▆▃█▅▃▄▄▅▆▅▅▆▆▆▅▁▂▄▄▄▃▃▅▃▇▂▅▂</td></tr><tr><td>recall</td><td>▆▅▁█▇▆▆▅▆▆▆▂▆▃▄▅▂▂▅▄▆▅▅▄▂▆▄▃▃▅▄▃▄▃▃▅▅▁▄▃</td></tr></table><br/></div><div class=\"wandb-col\"><h3>Run summary:</h3><br/><table class=\"wandb\"><tr><td>f1</td><td>0.50763</td></tr><tr><td>generation</td><td>find the top 5 most ...</td></tr><tr><td>masked</td><td>False</td></tr><tr><td>nshot</td><td>3</td></tr><tr><td>precision</td><td>0.39472</td></tr><tr><td>query</td><td>select t1.celllabel ...</td></tr><tr><td>question</td><td>what are the five mo...</td></tr><tr><td>recall</td><td>0.71101</td></tr><tr><td>retrieval_method</td><td>random</td></tr></table><br/></div></div>"
      ],
      "text/plain": [
       "<IPython.core.display.HTML object>"
      ]
     },
     "metadata": {},
     "output_type": "display_data"
    },
    {
     "data": {
      "text/html": [
       " View run <strong style=\"color:#cdcd00\">random-unmasked-3shot</strong> at: <a href='https://wandb.ai/besalelir1-team/fewshot-sql-descriptions/runs/vxao19e4' target=\"_blank\">https://wandb.ai/besalelir1-team/fewshot-sql-descriptions/runs/vxao19e4</a><br/>Synced 5 W&B file(s), 0 media file(s), 0 artifact file(s) and 0 other file(s)"
      ],
      "text/plain": [
       "<IPython.core.display.HTML object>"
      ]
     },
     "metadata": {},
     "output_type": "display_data"
    },
    {
     "data": {
      "text/html": [
       "Find logs at: <code>./wandb/run-20230505_084112-vxao19e4/logs</code>"
      ],
      "text/plain": [
       "<IPython.core.display.HTML object>"
      ]
     },
     "metadata": {},
     "output_type": "display_data"
    },
    {
     "data": {
      "text/html": [
       "Tracking run with wandb version 0.15.1"
      ],
      "text/plain": [
       "<IPython.core.display.HTML object>"
      ]
     },
     "metadata": {},
     "output_type": "display_data"
    },
    {
     "data": {
      "text/html": [
       "Run data is saved locally in <code>/Users/razbesaleli/fewshot-sql-descriptions/wandb/run-20230505_084120-pknys75j</code>"
      ],
      "text/plain": [
       "<IPython.core.display.HTML object>"
      ]
     },
     "metadata": {},
     "output_type": "display_data"
    },
    {
     "data": {
      "text/html": [
       "Syncing run <strong><a href='https://wandb.ai/besalelir1-team/fewshot-sql-descriptions/runs/pknys75j' target=\"_blank\">random-masked-0shot</a></strong> to <a href='https://wandb.ai/besalelir1-team/fewshot-sql-descriptions' target=\"_blank\">Weights & Biases</a> (<a href='https://wandb.me/run' target=\"_blank\">docs</a>)<br/>"
      ],
      "text/plain": [
       "<IPython.core.display.HTML object>"
      ]
     },
     "metadata": {},
     "output_type": "display_data"
    },
    {
     "data": {
      "text/html": [
       " View project at <a href='https://wandb.ai/besalelir1-team/fewshot-sql-descriptions' target=\"_blank\">https://wandb.ai/besalelir1-team/fewshot-sql-descriptions</a>"
      ],
      "text/plain": [
       "<IPython.core.display.HTML object>"
      ]
     },
     "metadata": {},
     "output_type": "display_data"
    },
    {
     "data": {
      "text/html": [
       " View run at <a href='https://wandb.ai/besalelir1-team/fewshot-sql-descriptions/runs/pknys75j' target=\"_blank\">https://wandb.ai/besalelir1-team/fewshot-sql-descriptions/runs/pknys75j</a>"
      ],
      "text/plain": [
       "<IPython.core.display.HTML object>"
      ]
     },
     "metadata": {},
     "output_type": "display_data"
    },
    {
     "name": "stderr",
     "output_type": "stream",
     "text": [
      "100%|██████████| 755/755 [00:00<00:00, 11408.28it/s]\n"
     ]
    },
    {
     "data": {
      "text/html": [
       "Waiting for W&B process to finish... <strong style=\"color:green\">(success).</strong>"
      ],
      "text/plain": [
       "<IPython.core.display.HTML object>"
      ]
     },
     "metadata": {},
     "output_type": "display_data"
    },
    {
     "data": {
      "text/html": [
       "<style>\n",
       "    table.wandb td:nth-child(1) { padding: 0 10px; text-align: left ; width: auto;} td:nth-child(2) {text-align: left ; width: 100%}\n",
       "    .wandb-row { display: flex; flex-direction: row; flex-wrap: wrap; justify-content: flex-start; width: 100% }\n",
       "    .wandb-col { display: flex; flex-direction: column; flex-basis: 100%; flex: 1; padding: 10px; }\n",
       "    </style>\n",
       "<div class=\"wandb-row\"><div class=\"wandb-col\"><h3>Run history:</h3><br/><table class=\"wandb\"><tr><td>f1</td><td>▃▅▂▂▁▁▁▆▄▂▅▃▂▁█▃▃▁▄▅▂▅▂▄▃▃▂▃▄▆▅▁▄▂▂▄▆▃▂▂</td></tr><tr><td>masked</td><td>▁▁▁▁▁▁▁▁▁▁▁▁▁▁▁▁▁▁▁▁▁▁▁▁▁▁▁▁▁▁▁▁▁▁▁▁▁▁▁▁</td></tr><tr><td>nshot</td><td>▁▁▁▁▁▁▁▁▁▁▁▁▁▁▁▁▁▁▁▁▁▁▁▁▁▁▁▁▁▁▁▁▁▁▁▁▁▁▁▁</td></tr><tr><td>precision</td><td>▃▅▃▃▂▁▁▆▄▄▆▅▂▁█▄▃▂▃▇▄▆▃▄▃▃▃▂▄▆▄▂▆▁▃▃▇▃▃▂</td></tr><tr><td>recall</td><td>▅▅▂▃▁▂▂▅▄▂▄▂▂▂█▃▃▂▅▄▂▄▂▅▃▄▁▄▆▅▆▁▃▃▂▄▅▄▂▂</td></tr></table><br/></div><div class=\"wandb-col\"><h3>Run summary:</h3><br/><table class=\"wandb\"><tr><td>f1</td><td>0.4558</td></tr><tr><td>generation</td><td>The query selects al...</td></tr><tr><td>masked</td><td>True</td></tr><tr><td>nshot</td><td>0</td></tr><tr><td>precision</td><td>0.38503</td></tr><tr><td>query</td><td>select t1.celllabel ...</td></tr><tr><td>question</td><td>what are the five mo...</td></tr><tr><td>recall</td><td>0.55846</td></tr><tr><td>retrieval_method</td><td>random</td></tr></table><br/></div></div>"
      ],
      "text/plain": [
       "<IPython.core.display.HTML object>"
      ]
     },
     "metadata": {},
     "output_type": "display_data"
    },
    {
     "data": {
      "text/html": [
       " View run <strong style=\"color:#cdcd00\">random-masked-0shot</strong> at: <a href='https://wandb.ai/besalelir1-team/fewshot-sql-descriptions/runs/pknys75j' target=\"_blank\">https://wandb.ai/besalelir1-team/fewshot-sql-descriptions/runs/pknys75j</a><br/>Synced 5 W&B file(s), 0 media file(s), 0 artifact file(s) and 0 other file(s)"
      ],
      "text/plain": [
       "<IPython.core.display.HTML object>"
      ]
     },
     "metadata": {},
     "output_type": "display_data"
    },
    {
     "data": {
      "text/html": [
       "Find logs at: <code>./wandb/run-20230505_084120-pknys75j/logs</code>"
      ],
      "text/plain": [
       "<IPython.core.display.HTML object>"
      ]
     },
     "metadata": {},
     "output_type": "display_data"
    },
    {
     "data": {
      "text/html": [
       "Tracking run with wandb version 0.15.1"
      ],
      "text/plain": [
       "<IPython.core.display.HTML object>"
      ]
     },
     "metadata": {},
     "output_type": "display_data"
    },
    {
     "data": {
      "text/html": [
       "Run data is saved locally in <code>/Users/razbesaleli/fewshot-sql-descriptions/wandb/run-20230505_084129-be0yproi</code>"
      ],
      "text/plain": [
       "<IPython.core.display.HTML object>"
      ]
     },
     "metadata": {},
     "output_type": "display_data"
    },
    {
     "data": {
      "text/html": [
       "Syncing run <strong><a href='https://wandb.ai/besalelir1-team/fewshot-sql-descriptions/runs/be0yproi' target=\"_blank\">random-masked-1shot</a></strong> to <a href='https://wandb.ai/besalelir1-team/fewshot-sql-descriptions' target=\"_blank\">Weights & Biases</a> (<a href='https://wandb.me/run' target=\"_blank\">docs</a>)<br/>"
      ],
      "text/plain": [
       "<IPython.core.display.HTML object>"
      ]
     },
     "metadata": {},
     "output_type": "display_data"
    },
    {
     "data": {
      "text/html": [
       " View project at <a href='https://wandb.ai/besalelir1-team/fewshot-sql-descriptions' target=\"_blank\">https://wandb.ai/besalelir1-team/fewshot-sql-descriptions</a>"
      ],
      "text/plain": [
       "<IPython.core.display.HTML object>"
      ]
     },
     "metadata": {},
     "output_type": "display_data"
    },
    {
     "data": {
      "text/html": [
       " View run at <a href='https://wandb.ai/besalelir1-team/fewshot-sql-descriptions/runs/be0yproi' target=\"_blank\">https://wandb.ai/besalelir1-team/fewshot-sql-descriptions/runs/be0yproi</a>"
      ],
      "text/plain": [
       "<IPython.core.display.HTML object>"
      ]
     },
     "metadata": {},
     "output_type": "display_data"
    },
    {
     "name": "stderr",
     "output_type": "stream",
     "text": [
      "100%|██████████| 755/755 [00:00<00:00, 11203.45it/s]\n"
     ]
    },
    {
     "data": {
      "text/html": [
       "Waiting for W&B process to finish... <strong style=\"color:green\">(success).</strong>"
      ],
      "text/plain": [
       "<IPython.core.display.HTML object>"
      ]
     },
     "metadata": {},
     "output_type": "display_data"
    },
    {
     "data": {
      "text/html": [
       "<style>\n",
       "    table.wandb td:nth-child(1) { padding: 0 10px; text-align: left ; width: auto;} td:nth-child(2) {text-align: left ; width: 100%}\n",
       "    .wandb-row { display: flex; flex-direction: row; flex-wrap: wrap; justify-content: flex-start; width: 100% }\n",
       "    .wandb-col { display: flex; flex-direction: column; flex-basis: 100%; flex: 1; padding: 10px; }\n",
       "    </style>\n",
       "<div class=\"wandb-row\"><div class=\"wandb-col\"><h3>Run history:</h3><br/><table class=\"wandb\"><tr><td>f1</td><td>▅▄▄▅█▂▁▅▄▂▄▂▂▂▇▃▃▁▂▃▅▃▁▃▄▆▄▂▅▅▃▆▅▃▂▂▄▃▅▃</td></tr><tr><td>masked</td><td>▁▁▁▁▁▁▁▁▁▁▁▁▁▁▁▁▁▁▁▁▁▁▁▁▁▁▁▁▁▁▁▁▁▁▁▁▁▁▁▁</td></tr><tr><td>nshot</td><td>▁▁▁▁▁▁▁▁▁▁▁▁▁▁▁▁▁▁▁▁▁▁▁▁▁▁▁▁▁▁▁▁▁▁▁▁▁▁▁▁</td></tr><tr><td>precision</td><td>▅▄▄▆█▂▁▆▅▄▆▃▂▂▇▄▃▂▂▃▅▄▂▂▆▇▄▁▄▆▄▇▇▃▂▁▆▃▅▃</td></tr><tr><td>recall</td><td>▅▅▃▅█▂▂▅▃▂▃▂▃▄▇▃▃▁▂▃▅▃▁▄▃▆▃▃▅▅▃▆▄▄▂▃▃▅▄▄</td></tr></table><br/></div><div class=\"wandb-col\"><h3>Run summary:</h3><br/><table class=\"wandb\"><tr><td>f1</td><td>0.61895</td></tr><tr><td>generation</td><td>find the top 5 intak...</td></tr><tr><td>masked</td><td>True</td></tr><tr><td>nshot</td><td>1</td></tr><tr><td>precision</td><td>0.58258</td></tr><tr><td>query</td><td>select t1.celllabel ...</td></tr><tr><td>question</td><td>what are the five mo...</td></tr><tr><td>recall</td><td>0.66016</td></tr><tr><td>retrieval_method</td><td>random</td></tr></table><br/></div></div>"
      ],
      "text/plain": [
       "<IPython.core.display.HTML object>"
      ]
     },
     "metadata": {},
     "output_type": "display_data"
    },
    {
     "data": {
      "text/html": [
       " View run <strong style=\"color:#cdcd00\">random-masked-1shot</strong> at: <a href='https://wandb.ai/besalelir1-team/fewshot-sql-descriptions/runs/be0yproi' target=\"_blank\">https://wandb.ai/besalelir1-team/fewshot-sql-descriptions/runs/be0yproi</a><br/>Synced 5 W&B file(s), 0 media file(s), 0 artifact file(s) and 0 other file(s)"
      ],
      "text/plain": [
       "<IPython.core.display.HTML object>"
      ]
     },
     "metadata": {},
     "output_type": "display_data"
    },
    {
     "data": {
      "text/html": [
       "Find logs at: <code>./wandb/run-20230505_084129-be0yproi/logs</code>"
      ],
      "text/plain": [
       "<IPython.core.display.HTML object>"
      ]
     },
     "metadata": {},
     "output_type": "display_data"
    },
    {
     "data": {
      "text/html": [
       "Tracking run with wandb version 0.15.1"
      ],
      "text/plain": [
       "<IPython.core.display.HTML object>"
      ]
     },
     "metadata": {},
     "output_type": "display_data"
    },
    {
     "data": {
      "text/html": [
       "Run data is saved locally in <code>/Users/razbesaleli/fewshot-sql-descriptions/wandb/run-20230505_084138-s8s3c8hj</code>"
      ],
      "text/plain": [
       "<IPython.core.display.HTML object>"
      ]
     },
     "metadata": {},
     "output_type": "display_data"
    },
    {
     "data": {
      "text/html": [
       "Syncing run <strong><a href='https://wandb.ai/besalelir1-team/fewshot-sql-descriptions/runs/s8s3c8hj' target=\"_blank\">random-masked-2shot</a></strong> to <a href='https://wandb.ai/besalelir1-team/fewshot-sql-descriptions' target=\"_blank\">Weights & Biases</a> (<a href='https://wandb.me/run' target=\"_blank\">docs</a>)<br/>"
      ],
      "text/plain": [
       "<IPython.core.display.HTML object>"
      ]
     },
     "metadata": {},
     "output_type": "display_data"
    },
    {
     "data": {
      "text/html": [
       " View project at <a href='https://wandb.ai/besalelir1-team/fewshot-sql-descriptions' target=\"_blank\">https://wandb.ai/besalelir1-team/fewshot-sql-descriptions</a>"
      ],
      "text/plain": [
       "<IPython.core.display.HTML object>"
      ]
     },
     "metadata": {},
     "output_type": "display_data"
    },
    {
     "data": {
      "text/html": [
       " View run at <a href='https://wandb.ai/besalelir1-team/fewshot-sql-descriptions/runs/s8s3c8hj' target=\"_blank\">https://wandb.ai/besalelir1-team/fewshot-sql-descriptions/runs/s8s3c8hj</a>"
      ],
      "text/plain": [
       "<IPython.core.display.HTML object>"
      ]
     },
     "metadata": {},
     "output_type": "display_data"
    },
    {
     "name": "stderr",
     "output_type": "stream",
     "text": [
      "100%|██████████| 755/755 [00:00<00:00, 11027.03it/s]\n"
     ]
    },
    {
     "data": {
      "text/html": [
       "Waiting for W&B process to finish... <strong style=\"color:green\">(success).</strong>"
      ],
      "text/plain": [
       "<IPython.core.display.HTML object>"
      ]
     },
     "metadata": {},
     "output_type": "display_data"
    },
    {
     "data": {
      "text/html": [
       "<style>\n",
       "    table.wandb td:nth-child(1) { padding: 0 10px; text-align: left ; width: auto;} td:nth-child(2) {text-align: left ; width: 100%}\n",
       "    .wandb-row { display: flex; flex-direction: row; flex-wrap: wrap; justify-content: flex-start; width: 100% }\n",
       "    .wandb-col { display: flex; flex-direction: column; flex-basis: 100%; flex: 1; padding: 10px; }\n",
       "    </style>\n",
       "<div class=\"wandb-row\"><div class=\"wandb-col\"><h3>Run history:</h3><br/><table class=\"wandb\"><tr><td>f1</td><td>▂▆▅▆▃▅▅█▆▄▅▄▄▆▅▃▃▆▇█▆▅▆▄▅▅▆▅▆▇▇▅▅▄▃▅▁▄▃▆</td></tr><tr><td>masked</td><td>▁▁▁▁▁▁▁▁▁▁▁▁▁▁▁▁▁▁▁▁▁▁▁▁▁▁▁▁▁▁▁▁▁▁▁▁▁▁▁▁</td></tr><tr><td>nshot</td><td>▁▁▁▁▁▁▁▁▁▁▁▁▁▁▁▁▁▁▁▁▁▁▁▁▁▁▁▁▁▁▁▁▁▁▁▁▁▁▁▁</td></tr><tr><td>precision</td><td>▂▅▆▆▃▅▅█▆▅▅▃▃▆▄▃▂▆▆▇▆▄▆▄▆▅█▄▄█▅▆▅▄▂▄▁▂▄▆</td></tr><tr><td>recall</td><td>▂▆▄▅▃▅▅▇▆▃▅▄▄▆▆▃▃▅▆█▆▆▅▄▄▅▅▅▇▆█▄▄▄▄▆▁▅▂▆</td></tr></table><br/></div><div class=\"wandb-col\"><h3>Run summary:</h3><br/><table class=\"wandb\"><tr><td>f1</td><td>0.63185</td></tr><tr><td>generation</td><td>find the top five in...</td></tr><tr><td>masked</td><td>True</td></tr><tr><td>nshot</td><td>2</td></tr><tr><td>precision</td><td>0.56386</td></tr><tr><td>query</td><td>select t1.celllabel ...</td></tr><tr><td>question</td><td>what are the five mo...</td></tr><tr><td>recall</td><td>0.71848</td></tr><tr><td>retrieval_method</td><td>random</td></tr></table><br/></div></div>"
      ],
      "text/plain": [
       "<IPython.core.display.HTML object>"
      ]
     },
     "metadata": {},
     "output_type": "display_data"
    },
    {
     "data": {
      "text/html": [
       " View run <strong style=\"color:#cdcd00\">random-masked-2shot</strong> at: <a href='https://wandb.ai/besalelir1-team/fewshot-sql-descriptions/runs/s8s3c8hj' target=\"_blank\">https://wandb.ai/besalelir1-team/fewshot-sql-descriptions/runs/s8s3c8hj</a><br/>Synced 5 W&B file(s), 0 media file(s), 0 artifact file(s) and 0 other file(s)"
      ],
      "text/plain": [
       "<IPython.core.display.HTML object>"
      ]
     },
     "metadata": {},
     "output_type": "display_data"
    },
    {
     "data": {
      "text/html": [
       "Find logs at: <code>./wandb/run-20230505_084138-s8s3c8hj/logs</code>"
      ],
      "text/plain": [
       "<IPython.core.display.HTML object>"
      ]
     },
     "metadata": {},
     "output_type": "display_data"
    },
    {
     "data": {
      "text/html": [
       "Tracking run with wandb version 0.15.1"
      ],
      "text/plain": [
       "<IPython.core.display.HTML object>"
      ]
     },
     "metadata": {},
     "output_type": "display_data"
    },
    {
     "data": {
      "text/html": [
       "Run data is saved locally in <code>/Users/razbesaleli/fewshot-sql-descriptions/wandb/run-20230505_084151-ewglolh2</code>"
      ],
      "text/plain": [
       "<IPython.core.display.HTML object>"
      ]
     },
     "metadata": {},
     "output_type": "display_data"
    },
    {
     "data": {
      "text/html": [
       "Syncing run <strong><a href='https://wandb.ai/besalelir1-team/fewshot-sql-descriptions/runs/ewglolh2' target=\"_blank\">random-masked-3shot</a></strong> to <a href='https://wandb.ai/besalelir1-team/fewshot-sql-descriptions' target=\"_blank\">Weights & Biases</a> (<a href='https://wandb.me/run' target=\"_blank\">docs</a>)<br/>"
      ],
      "text/plain": [
       "<IPython.core.display.HTML object>"
      ]
     },
     "metadata": {},
     "output_type": "display_data"
    },
    {
     "data": {
      "text/html": [
       " View project at <a href='https://wandb.ai/besalelir1-team/fewshot-sql-descriptions' target=\"_blank\">https://wandb.ai/besalelir1-team/fewshot-sql-descriptions</a>"
      ],
      "text/plain": [
       "<IPython.core.display.HTML object>"
      ]
     },
     "metadata": {},
     "output_type": "display_data"
    },
    {
     "data": {
      "text/html": [
       " View run at <a href='https://wandb.ai/besalelir1-team/fewshot-sql-descriptions/runs/ewglolh2' target=\"_blank\">https://wandb.ai/besalelir1-team/fewshot-sql-descriptions/runs/ewglolh2</a>"
      ],
      "text/plain": [
       "<IPython.core.display.HTML object>"
      ]
     },
     "metadata": {},
     "output_type": "display_data"
    },
    {
     "name": "stderr",
     "output_type": "stream",
     "text": [
      "100%|██████████| 755/755 [00:00<00:00, 10772.48it/s]\n"
     ]
    },
    {
     "data": {
      "text/html": [
       "Waiting for W&B process to finish... <strong style=\"color:green\">(success).</strong>"
      ],
      "text/plain": [
       "<IPython.core.display.HTML object>"
      ]
     },
     "metadata": {},
     "output_type": "display_data"
    },
    {
     "data": {
      "text/html": [
       "<style>\n",
       "    table.wandb td:nth-child(1) { padding: 0 10px; text-align: left ; width: auto;} td:nth-child(2) {text-align: left ; width: 100%}\n",
       "    .wandb-row { display: flex; flex-direction: row; flex-wrap: wrap; justify-content: flex-start; width: 100% }\n",
       "    .wandb-col { display: flex; flex-direction: column; flex-basis: 100%; flex: 1; padding: 10px; }\n",
       "    </style>\n",
       "<div class=\"wandb-row\"><div class=\"wandb-col\"><h3>Run history:</h3><br/><table class=\"wandb\"><tr><td>f1</td><td>▅▃▂▄▄▇█▄▆▅▆▄▄▂▇▅▄▅▁▇▄▆▅▄▅▇▅▁▃▅▇▇▇▁▂▆▄▄▄▃</td></tr><tr><td>masked</td><td>▁▁▁▁▁▁▁▁▁▁▁▁▁▁▁▁▁▁▁▁▁▁▁▁▁▁▁▁▁▁▁▁▁▁▁▁▁▁▁▁</td></tr><tr><td>nshot</td><td>▁▁▁▁▁▁▁▁▁▁▁▁▁▁▁▁▁▁▁▁▁▁▁▁▁▁▁▁▁▁▁▁▁▁▁▁▁▁▁▁</td></tr><tr><td>precision</td><td>▄▃▃▄▅██▄▅▆▆▄▄▃▆▅▄▆▂▆▄▆▆▄▅▇▆▂▂▄▆▆█▁▂▅▅▄▄▃</td></tr><tr><td>recall</td><td>▆▄▂▄▃▇█▅█▅▆▄▅▃█▅▄▄▁█▄▆▅▃▅▇▄▁▅▅▇█▆▂▂▇▄▅▄▄</td></tr></table><br/></div><div class=\"wandb-col\"><h3>Run summary:</h3><br/><table class=\"wandb\"><tr><td>f1</td><td>0.57037</td></tr><tr><td>generation</td><td>find the top 5 intak...</td></tr><tr><td>masked</td><td>True</td></tr><tr><td>nshot</td><td>3</td></tr><tr><td>precision</td><td>0.50336</td></tr><tr><td>query</td><td>select t1.celllabel ...</td></tr><tr><td>question</td><td>what are the five mo...</td></tr><tr><td>recall</td><td>0.65797</td></tr><tr><td>retrieval_method</td><td>random</td></tr></table><br/></div></div>"
      ],
      "text/plain": [
       "<IPython.core.display.HTML object>"
      ]
     },
     "metadata": {},
     "output_type": "display_data"
    },
    {
     "data": {
      "text/html": [
       " View run <strong style=\"color:#cdcd00\">random-masked-3shot</strong> at: <a href='https://wandb.ai/besalelir1-team/fewshot-sql-descriptions/runs/ewglolh2' target=\"_blank\">https://wandb.ai/besalelir1-team/fewshot-sql-descriptions/runs/ewglolh2</a><br/>Synced 5 W&B file(s), 0 media file(s), 0 artifact file(s) and 0 other file(s)"
      ],
      "text/plain": [
       "<IPython.core.display.HTML object>"
      ]
     },
     "metadata": {},
     "output_type": "display_data"
    },
    {
     "data": {
      "text/html": [
       "Find logs at: <code>./wandb/run-20230505_084151-ewglolh2/logs</code>"
      ],
      "text/plain": [
       "<IPython.core.display.HTML object>"
      ]
     },
     "metadata": {},
     "output_type": "display_data"
    },
    {
     "data": {
      "text/html": [
       "Tracking run with wandb version 0.15.1"
      ],
      "text/plain": [
       "<IPython.core.display.HTML object>"
      ]
     },
     "metadata": {},
     "output_type": "display_data"
    },
    {
     "data": {
      "text/html": [
       "Run data is saved locally in <code>/Users/razbesaleli/fewshot-sql-descriptions/wandb/run-20230505_084159-0r9250p3</code>"
      ],
      "text/plain": [
       "<IPython.core.display.HTML object>"
      ]
     },
     "metadata": {},
     "output_type": "display_data"
    },
    {
     "data": {
      "text/html": [
       "Syncing run <strong><a href='https://wandb.ai/besalelir1-team/fewshot-sql-descriptions/runs/0r9250p3' target=\"_blank\">tfidf-unmasked-0shot</a></strong> to <a href='https://wandb.ai/besalelir1-team/fewshot-sql-descriptions' target=\"_blank\">Weights & Biases</a> (<a href='https://wandb.me/run' target=\"_blank\">docs</a>)<br/>"
      ],
      "text/plain": [
       "<IPython.core.display.HTML object>"
      ]
     },
     "metadata": {},
     "output_type": "display_data"
    },
    {
     "data": {
      "text/html": [
       " View project at <a href='https://wandb.ai/besalelir1-team/fewshot-sql-descriptions' target=\"_blank\">https://wandb.ai/besalelir1-team/fewshot-sql-descriptions</a>"
      ],
      "text/plain": [
       "<IPython.core.display.HTML object>"
      ]
     },
     "metadata": {},
     "output_type": "display_data"
    },
    {
     "data": {
      "text/html": [
       " View run at <a href='https://wandb.ai/besalelir1-team/fewshot-sql-descriptions/runs/0r9250p3' target=\"_blank\">https://wandb.ai/besalelir1-team/fewshot-sql-descriptions/runs/0r9250p3</a>"
      ],
      "text/plain": [
       "<IPython.core.display.HTML object>"
      ]
     },
     "metadata": {},
     "output_type": "display_data"
    },
    {
     "name": "stderr",
     "output_type": "stream",
     "text": [
      "100%|██████████| 755/755 [00:00<00:00, 11009.05it/s]\n"
     ]
    },
    {
     "data": {
      "text/html": [
       "Waiting for W&B process to finish... <strong style=\"color:green\">(success).</strong>"
      ],
      "text/plain": [
       "<IPython.core.display.HTML object>"
      ]
     },
     "metadata": {},
     "output_type": "display_data"
    },
    {
     "data": {
      "text/html": [
       "<style>\n",
       "    table.wandb td:nth-child(1) { padding: 0 10px; text-align: left ; width: auto;} td:nth-child(2) {text-align: left ; width: 100%}\n",
       "    .wandb-row { display: flex; flex-direction: row; flex-wrap: wrap; justify-content: flex-start; width: 100% }\n",
       "    .wandb-col { display: flex; flex-direction: column; flex-basis: 100%; flex: 1; padding: 10px; }\n",
       "    </style>\n",
       "<div class=\"wandb-row\"><div class=\"wandb-col\"><h3>Run history:</h3><br/><table class=\"wandb\"><tr><td>f1</td><td>▅▂▄▆▄▄▃▁▁▂▄▃▆▂█▁▂▄▁▅▂▄▃▃▆▃▂▅▅▅▄▆▅▄▃▄▅▂▅▃</td></tr><tr><td>masked</td><td>▁▁▁▁▁▁▁▁▁▁▁▁▁▁▁▁▁▁▁▁▁▁▁▁▁▁▁▁▁▁▁▁▁▁▁▁▁▁▁▁</td></tr><tr><td>nshot</td><td>▁▁▁▁▁▁▁▁▁▁▁▁▁▁▁▁▁▁▁▁▁▁▁▁▁▁▁▁▁▁▁▁▁▁▁▁▁▁▁▁</td></tr><tr><td>precision</td><td>▄▃▄▆▃▄▃▁▁▂▅▃▅▃█▁▃▃▂▆▃▄▃▂█▄▂▅▄▅▃▆▄▄▃▃▅▂▅▂</td></tr><tr><td>recall</td><td>▇▂▃▅▅▄▃▁▂▃▄▃▆▂█▂▁▄▁▅▂▄▂▅▅▃▂▆▇▆▅▆▅▅▃▅▅▃▆▄</td></tr></table><br/></div><div class=\"wandb-col\"><h3>Run summary:</h3><br/><table class=\"wandb\"><tr><td>f1</td><td>0.46228</td></tr><tr><td>generation</td><td>The query selects th...</td></tr><tr><td>masked</td><td>False</td></tr><tr><td>nshot</td><td>0</td></tr><tr><td>precision</td><td>0.4059</td></tr><tr><td>query</td><td>select t1.celllabel ...</td></tr><tr><td>question</td><td>what are the five mo...</td></tr><tr><td>recall</td><td>0.53684</td></tr><tr><td>retrieval_method</td><td>tfidf</td></tr></table><br/></div></div>"
      ],
      "text/plain": [
       "<IPython.core.display.HTML object>"
      ]
     },
     "metadata": {},
     "output_type": "display_data"
    },
    {
     "data": {
      "text/html": [
       " View run <strong style=\"color:#cdcd00\">tfidf-unmasked-0shot</strong> at: <a href='https://wandb.ai/besalelir1-team/fewshot-sql-descriptions/runs/0r9250p3' target=\"_blank\">https://wandb.ai/besalelir1-team/fewshot-sql-descriptions/runs/0r9250p3</a><br/>Synced 5 W&B file(s), 0 media file(s), 0 artifact file(s) and 0 other file(s)"
      ],
      "text/plain": [
       "<IPython.core.display.HTML object>"
      ]
     },
     "metadata": {},
     "output_type": "display_data"
    },
    {
     "data": {
      "text/html": [
       "Find logs at: <code>./wandb/run-20230505_084159-0r9250p3/logs</code>"
      ],
      "text/plain": [
       "<IPython.core.display.HTML object>"
      ]
     },
     "metadata": {},
     "output_type": "display_data"
    },
    {
     "data": {
      "text/html": [
       "Tracking run with wandb version 0.15.1"
      ],
      "text/plain": [
       "<IPython.core.display.HTML object>"
      ]
     },
     "metadata": {},
     "output_type": "display_data"
    },
    {
     "data": {
      "text/html": [
       "Run data is saved locally in <code>/Users/razbesaleli/fewshot-sql-descriptions/wandb/run-20230505_084207-fuvh4wpo</code>"
      ],
      "text/plain": [
       "<IPython.core.display.HTML object>"
      ]
     },
     "metadata": {},
     "output_type": "display_data"
    },
    {
     "data": {
      "text/html": [
       "Syncing run <strong><a href='https://wandb.ai/besalelir1-team/fewshot-sql-descriptions/runs/fuvh4wpo' target=\"_blank\">tfidf-unmasked-1shot</a></strong> to <a href='https://wandb.ai/besalelir1-team/fewshot-sql-descriptions' target=\"_blank\">Weights & Biases</a> (<a href='https://wandb.me/run' target=\"_blank\">docs</a>)<br/>"
      ],
      "text/plain": [
       "<IPython.core.display.HTML object>"
      ]
     },
     "metadata": {},
     "output_type": "display_data"
    },
    {
     "data": {
      "text/html": [
       " View project at <a href='https://wandb.ai/besalelir1-team/fewshot-sql-descriptions' target=\"_blank\">https://wandb.ai/besalelir1-team/fewshot-sql-descriptions</a>"
      ],
      "text/plain": [
       "<IPython.core.display.HTML object>"
      ]
     },
     "metadata": {},
     "output_type": "display_data"
    },
    {
     "data": {
      "text/html": [
       " View run at <a href='https://wandb.ai/besalelir1-team/fewshot-sql-descriptions/runs/fuvh4wpo' target=\"_blank\">https://wandb.ai/besalelir1-team/fewshot-sql-descriptions/runs/fuvh4wpo</a>"
      ],
      "text/plain": [
       "<IPython.core.display.HTML object>"
      ]
     },
     "metadata": {},
     "output_type": "display_data"
    },
    {
     "name": "stderr",
     "output_type": "stream",
     "text": [
      "100%|██████████| 755/755 [00:00<00:00, 11319.87it/s]\n"
     ]
    },
    {
     "data": {
      "text/html": [
       "Waiting for W&B process to finish... <strong style=\"color:green\">(success).</strong>"
      ],
      "text/plain": [
       "<IPython.core.display.HTML object>"
      ]
     },
     "metadata": {},
     "output_type": "display_data"
    },
    {
     "data": {
      "text/html": [
       "<style>\n",
       "    table.wandb td:nth-child(1) { padding: 0 10px; text-align: left ; width: auto;} td:nth-child(2) {text-align: left ; width: 100%}\n",
       "    .wandb-row { display: flex; flex-direction: row; flex-wrap: wrap; justify-content: flex-start; width: 100% }\n",
       "    .wandb-col { display: flex; flex-direction: column; flex-basis: 100%; flex: 1; padding: 10px; }\n",
       "    </style>\n",
       "<div class=\"wandb-row\"><div class=\"wandb-col\"><h3>Run history:</h3><br/><table class=\"wandb\"><tr><td>f1</td><td>▅▇▂▇▅█▄▆▅▄▆▅▄▅▃▃▁▂▂▆▅▃▆▄▆▆▅▅▆▄▆▅▆▇▇▆▄▆▅▇</td></tr><tr><td>masked</td><td>▁▁▁▁▁▁▁▁▁▁▁▁▁▁▁▁▁▁▁▁▁▁▁▁▁▁▁▁▁▁▁▁▁▁▁▁▁▁▁▁</td></tr><tr><td>nshot</td><td>▁▁▁▁▁▁▁▁▁▁▁▁▁▁▁▁▁▁▁▁▁▁▁▁▁▁▁▁▁▁▁▁▁▁▁▁▁▁▁▁</td></tr><tr><td>precision</td><td>▄▇▂▇▆█▅▆▅▄▇▆▅▅▅▄▁▃▃▆▅▄▆▅▇▆▆▅▆▅▆▅▆▇▇▆▅▅▅▇</td></tr><tr><td>recall</td><td>▅▆▂▇▅█▃▆▅▅▆▅▄▄▁▃▁▂▂▆▅▃▅▃▆▇▄▆▇▄▆▅▇▇▇▅▄▆▅▇</td></tr></table><br/></div><div class=\"wandb-col\"><h3>Run summary:</h3><br/><table class=\"wandb\"><tr><td>f1</td><td>0.87061</td></tr><tr><td>generation</td><td>what are the five mo...</td></tr><tr><td>masked</td><td>False</td></tr><tr><td>nshot</td><td>1</td></tr><tr><td>precision</td><td>0.83568</td></tr><tr><td>query</td><td>select t1.celllabel ...</td></tr><tr><td>question</td><td>what are the five mo...</td></tr><tr><td>recall</td><td>0.90858</td></tr><tr><td>retrieval_method</td><td>tfidf</td></tr></table><br/></div></div>"
      ],
      "text/plain": [
       "<IPython.core.display.HTML object>"
      ]
     },
     "metadata": {},
     "output_type": "display_data"
    },
    {
     "data": {
      "text/html": [
       " View run <strong style=\"color:#cdcd00\">tfidf-unmasked-1shot</strong> at: <a href='https://wandb.ai/besalelir1-team/fewshot-sql-descriptions/runs/fuvh4wpo' target=\"_blank\">https://wandb.ai/besalelir1-team/fewshot-sql-descriptions/runs/fuvh4wpo</a><br/>Synced 5 W&B file(s), 0 media file(s), 0 artifact file(s) and 0 other file(s)"
      ],
      "text/plain": [
       "<IPython.core.display.HTML object>"
      ]
     },
     "metadata": {},
     "output_type": "display_data"
    },
    {
     "data": {
      "text/html": [
       "Find logs at: <code>./wandb/run-20230505_084207-fuvh4wpo/logs</code>"
      ],
      "text/plain": [
       "<IPython.core.display.HTML object>"
      ]
     },
     "metadata": {},
     "output_type": "display_data"
    },
    {
     "data": {
      "text/html": [
       "Tracking run with wandb version 0.15.1"
      ],
      "text/plain": [
       "<IPython.core.display.HTML object>"
      ]
     },
     "metadata": {},
     "output_type": "display_data"
    },
    {
     "data": {
      "text/html": [
       "Run data is saved locally in <code>/Users/razbesaleli/fewshot-sql-descriptions/wandb/run-20230505_084214-ctb6cajy</code>"
      ],
      "text/plain": [
       "<IPython.core.display.HTML object>"
      ]
     },
     "metadata": {},
     "output_type": "display_data"
    },
    {
     "data": {
      "text/html": [
       "Syncing run <strong><a href='https://wandb.ai/besalelir1-team/fewshot-sql-descriptions/runs/ctb6cajy' target=\"_blank\">tfidf-unmasked-2shot</a></strong> to <a href='https://wandb.ai/besalelir1-team/fewshot-sql-descriptions' target=\"_blank\">Weights & Biases</a> (<a href='https://wandb.me/run' target=\"_blank\">docs</a>)<br/>"
      ],
      "text/plain": [
       "<IPython.core.display.HTML object>"
      ]
     },
     "metadata": {},
     "output_type": "display_data"
    },
    {
     "data": {
      "text/html": [
       " View project at <a href='https://wandb.ai/besalelir1-team/fewshot-sql-descriptions' target=\"_blank\">https://wandb.ai/besalelir1-team/fewshot-sql-descriptions</a>"
      ],
      "text/plain": [
       "<IPython.core.display.HTML object>"
      ]
     },
     "metadata": {},
     "output_type": "display_data"
    },
    {
     "data": {
      "text/html": [
       " View run at <a href='https://wandb.ai/besalelir1-team/fewshot-sql-descriptions/runs/ctb6cajy' target=\"_blank\">https://wandb.ai/besalelir1-team/fewshot-sql-descriptions/runs/ctb6cajy</a>"
      ],
      "text/plain": [
       "<IPython.core.display.HTML object>"
      ]
     },
     "metadata": {},
     "output_type": "display_data"
    },
    {
     "name": "stderr",
     "output_type": "stream",
     "text": [
      "100%|██████████| 755/755 [00:00<00:00, 11294.27it/s]\n"
     ]
    },
    {
     "data": {
      "text/html": [
       "Waiting for W&B process to finish... <strong style=\"color:green\">(success).</strong>"
      ],
      "text/plain": [
       "<IPython.core.display.HTML object>"
      ]
     },
     "metadata": {},
     "output_type": "display_data"
    },
    {
     "data": {
      "text/html": [
       "<style>\n",
       "    table.wandb td:nth-child(1) { padding: 0 10px; text-align: left ; width: auto;} td:nth-child(2) {text-align: left ; width: 100%}\n",
       "    .wandb-row { display: flex; flex-direction: row; flex-wrap: wrap; justify-content: flex-start; width: 100% }\n",
       "    .wandb-col { display: flex; flex-direction: column; flex-basis: 100%; flex: 1; padding: 10px; }\n",
       "    </style>\n",
       "<div class=\"wandb-row\"><div class=\"wandb-col\"><h3>Run history:</h3><br/><table class=\"wandb\"><tr><td>f1</td><td>▆▆▂█▇█▄▆▃▃▆▁▃▁▂▂▄▆▃▆▅▅▆▇▂▅▇▆▆▇▆▅▆▄█▆▆▆▄▄</td></tr><tr><td>masked</td><td>▁▁▁▁▁▁▁▁▁▁▁▁▁▁▁▁▁▁▁▁▁▁▁▁▁▁▁▁▁▁▁▁▁▁▁▁▁▁▁▁</td></tr><tr><td>nshot</td><td>▁▁▁▁▁▁▁▁▁▁▁▁▁▁▁▁▁▁▁▁▁▁▁▁▁▁▁▁▁▁▁▁▁▁▁▁▁▁▁▁</td></tr><tr><td>precision</td><td>▅▆▂█▇▇▃▅▁▃▆▁▃▁▃▂▄▆▁▆▅▅▅▇▃▃▆▆▅▇▅▅▇▃▇▅▅▅▄▂</td></tr><tr><td>recall</td><td>▆▆▃█▇█▅▆▄▃▆▁▃▁▁▁▄▅▄▆▆▅▆▇▂▆▆▆▆▇▇▅▆▅█▆▆▆▄▆</td></tr></table><br/></div><div class=\"wandb-col\"><h3>Run summary:</h3><br/><table class=\"wandb\"><tr><td>f1</td><td>0.68128</td></tr><tr><td>generation</td><td>tell me which 5 inta...</td></tr><tr><td>masked</td><td>False</td></tr><tr><td>nshot</td><td>2</td></tr><tr><td>precision</td><td>0.64072</td></tr><tr><td>query</td><td>select t1.celllabel ...</td></tr><tr><td>question</td><td>what are the five mo...</td></tr><tr><td>recall</td><td>0.72732</td></tr><tr><td>retrieval_method</td><td>tfidf</td></tr></table><br/></div></div>"
      ],
      "text/plain": [
       "<IPython.core.display.HTML object>"
      ]
     },
     "metadata": {},
     "output_type": "display_data"
    },
    {
     "data": {
      "text/html": [
       " View run <strong style=\"color:#cdcd00\">tfidf-unmasked-2shot</strong> at: <a href='https://wandb.ai/besalelir1-team/fewshot-sql-descriptions/runs/ctb6cajy' target=\"_blank\">https://wandb.ai/besalelir1-team/fewshot-sql-descriptions/runs/ctb6cajy</a><br/>Synced 5 W&B file(s), 0 media file(s), 0 artifact file(s) and 0 other file(s)"
      ],
      "text/plain": [
       "<IPython.core.display.HTML object>"
      ]
     },
     "metadata": {},
     "output_type": "display_data"
    },
    {
     "data": {
      "text/html": [
       "Find logs at: <code>./wandb/run-20230505_084214-ctb6cajy/logs</code>"
      ],
      "text/plain": [
       "<IPython.core.display.HTML object>"
      ]
     },
     "metadata": {},
     "output_type": "display_data"
    },
    {
     "data": {
      "text/html": [
       "Tracking run with wandb version 0.15.1"
      ],
      "text/plain": [
       "<IPython.core.display.HTML object>"
      ]
     },
     "metadata": {},
     "output_type": "display_data"
    },
    {
     "data": {
      "text/html": [
       "Run data is saved locally in <code>/Users/razbesaleli/fewshot-sql-descriptions/wandb/run-20230505_084223-11epm3gw</code>"
      ],
      "text/plain": [
       "<IPython.core.display.HTML object>"
      ]
     },
     "metadata": {},
     "output_type": "display_data"
    },
    {
     "data": {
      "text/html": [
       "Syncing run <strong><a href='https://wandb.ai/besalelir1-team/fewshot-sql-descriptions/runs/11epm3gw' target=\"_blank\">tfidf-unmasked-3shot</a></strong> to <a href='https://wandb.ai/besalelir1-team/fewshot-sql-descriptions' target=\"_blank\">Weights & Biases</a> (<a href='https://wandb.me/run' target=\"_blank\">docs</a>)<br/>"
      ],
      "text/plain": [
       "<IPython.core.display.HTML object>"
      ]
     },
     "metadata": {},
     "output_type": "display_data"
    },
    {
     "data": {
      "text/html": [
       " View project at <a href='https://wandb.ai/besalelir1-team/fewshot-sql-descriptions' target=\"_blank\">https://wandb.ai/besalelir1-team/fewshot-sql-descriptions</a>"
      ],
      "text/plain": [
       "<IPython.core.display.HTML object>"
      ]
     },
     "metadata": {},
     "output_type": "display_data"
    },
    {
     "data": {
      "text/html": [
       " View run at <a href='https://wandb.ai/besalelir1-team/fewshot-sql-descriptions/runs/11epm3gw' target=\"_blank\">https://wandb.ai/besalelir1-team/fewshot-sql-descriptions/runs/11epm3gw</a>"
      ],
      "text/plain": [
       "<IPython.core.display.HTML object>"
      ]
     },
     "metadata": {},
     "output_type": "display_data"
    },
    {
     "name": "stderr",
     "output_type": "stream",
     "text": [
      "100%|██████████| 755/755 [00:00<00:00, 8934.60it/s]\n"
     ]
    },
    {
     "data": {
      "text/html": [
       "Waiting for W&B process to finish... <strong style=\"color:green\">(success).</strong>"
      ],
      "text/plain": [
       "<IPython.core.display.HTML object>"
      ]
     },
     "metadata": {},
     "output_type": "display_data"
    },
    {
     "data": {
      "text/html": [
       "<style>\n",
       "    table.wandb td:nth-child(1) { padding: 0 10px; text-align: left ; width: auto;} td:nth-child(2) {text-align: left ; width: 100%}\n",
       "    .wandb-row { display: flex; flex-direction: row; flex-wrap: wrap; justify-content: flex-start; width: 100% }\n",
       "    .wandb-col { display: flex; flex-direction: column; flex-basis: 100%; flex: 1; padding: 10px; }\n",
       "    </style>\n",
       "<div class=\"wandb-row\"><div class=\"wandb-col\"><h3>Run history:</h3><br/><table class=\"wandb\"><tr><td>f1</td><td>▅▆▄█▇▇▆▆▆▅▆▆▅▃▇▂▃▄▁▅▇▄▄▆▆▇▇█▆▄▄▅▇▅▆▆▅▆▆▇</td></tr><tr><td>masked</td><td>▁▁▁▁▁▁▁▁▁▁▁▁▁▁▁▁▁▁▁▁▁▁▁▁▁▁▁▁▁▁▁▁▁▁▁▁▁▁▁▁</td></tr><tr><td>nshot</td><td>▁▁▁▁▁▁▁▁▁▁▁▁▁▁▁▁▁▁▁▁▁▁▁▁▁▁▁▁▁▁▁▁▁▁▁▁▁▁▁▁</td></tr><tr><td>precision</td><td>▅▆▄█▇▇▆▅▅▄▆▆▄▃▇▃▃▄▁▄▇▄▃▆▆▆▇▇▅▅▃▄▇▅▅▆▅▆▆▇</td></tr><tr><td>recall</td><td>▆▆▄█▆▇▆▇▇▆▆▆▅▂█▂▃▅▁▇▇▄▄▆▆█▇█▇▃▅▅▇▆▇▇▅▇▆▇</td></tr></table><br/></div><div class=\"wandb-col\"><h3>Run summary:</h3><br/><table class=\"wandb\"><tr><td>f1</td><td>0.69724</td></tr><tr><td>generation</td><td>What are the top fiv...</td></tr><tr><td>masked</td><td>False</td></tr><tr><td>nshot</td><td>3</td></tr><tr><td>precision</td><td>0.62832</td></tr><tr><td>query</td><td>select t1.celllabel ...</td></tr><tr><td>question</td><td>what are the five mo...</td></tr><tr><td>recall</td><td>0.78313</td></tr><tr><td>retrieval_method</td><td>tfidf</td></tr></table><br/></div></div>"
      ],
      "text/plain": [
       "<IPython.core.display.HTML object>"
      ]
     },
     "metadata": {},
     "output_type": "display_data"
    },
    {
     "data": {
      "text/html": [
       " View run <strong style=\"color:#cdcd00\">tfidf-unmasked-3shot</strong> at: <a href='https://wandb.ai/besalelir1-team/fewshot-sql-descriptions/runs/11epm3gw' target=\"_blank\">https://wandb.ai/besalelir1-team/fewshot-sql-descriptions/runs/11epm3gw</a><br/>Synced 5 W&B file(s), 0 media file(s), 0 artifact file(s) and 0 other file(s)"
      ],
      "text/plain": [
       "<IPython.core.display.HTML object>"
      ]
     },
     "metadata": {},
     "output_type": "display_data"
    },
    {
     "data": {
      "text/html": [
       "Find logs at: <code>./wandb/run-20230505_084223-11epm3gw/logs</code>"
      ],
      "text/plain": [
       "<IPython.core.display.HTML object>"
      ]
     },
     "metadata": {},
     "output_type": "display_data"
    },
    {
     "data": {
      "text/html": [
       "Tracking run with wandb version 0.15.1"
      ],
      "text/plain": [
       "<IPython.core.display.HTML object>"
      ]
     },
     "metadata": {},
     "output_type": "display_data"
    },
    {
     "data": {
      "text/html": [
       "Run data is saved locally in <code>/Users/razbesaleli/fewshot-sql-descriptions/wandb/run-20230505_084234-helqdr6z</code>"
      ],
      "text/plain": [
       "<IPython.core.display.HTML object>"
      ]
     },
     "metadata": {},
     "output_type": "display_data"
    },
    {
     "data": {
      "text/html": [
       "Syncing run <strong><a href='https://wandb.ai/besalelir1-team/fewshot-sql-descriptions/runs/helqdr6z' target=\"_blank\">tfidf-masked-0shot</a></strong> to <a href='https://wandb.ai/besalelir1-team/fewshot-sql-descriptions' target=\"_blank\">Weights & Biases</a> (<a href='https://wandb.me/run' target=\"_blank\">docs</a>)<br/>"
      ],
      "text/plain": [
       "<IPython.core.display.HTML object>"
      ]
     },
     "metadata": {},
     "output_type": "display_data"
    },
    {
     "data": {
      "text/html": [
       " View project at <a href='https://wandb.ai/besalelir1-team/fewshot-sql-descriptions' target=\"_blank\">https://wandb.ai/besalelir1-team/fewshot-sql-descriptions</a>"
      ],
      "text/plain": [
       "<IPython.core.display.HTML object>"
      ]
     },
     "metadata": {},
     "output_type": "display_data"
    },
    {
     "data": {
      "text/html": [
       " View run at <a href='https://wandb.ai/besalelir1-team/fewshot-sql-descriptions/runs/helqdr6z' target=\"_blank\">https://wandb.ai/besalelir1-team/fewshot-sql-descriptions/runs/helqdr6z</a>"
      ],
      "text/plain": [
       "<IPython.core.display.HTML object>"
      ]
     },
     "metadata": {},
     "output_type": "display_data"
    },
    {
     "name": "stderr",
     "output_type": "stream",
     "text": [
      "100%|██████████| 755/755 [00:00<00:00, 11423.84it/s]\n"
     ]
    },
    {
     "data": {
      "text/html": [
       "Waiting for W&B process to finish... <strong style=\"color:green\">(success).</strong>"
      ],
      "text/plain": [
       "<IPython.core.display.HTML object>"
      ]
     },
     "metadata": {},
     "output_type": "display_data"
    },
    {
     "data": {
      "text/html": [
       "<style>\n",
       "    table.wandb td:nth-child(1) { padding: 0 10px; text-align: left ; width: auto;} td:nth-child(2) {text-align: left ; width: 100%}\n",
       "    .wandb-row { display: flex; flex-direction: row; flex-wrap: wrap; justify-content: flex-start; width: 100% }\n",
       "    .wandb-col { display: flex; flex-direction: column; flex-basis: 100%; flex: 1; padding: 10px; }\n",
       "    </style>\n",
       "<div class=\"wandb-row\"><div class=\"wandb-col\"><h3>Run history:</h3><br/><table class=\"wandb\"><tr><td>f1</td><td>▃▅▂▂▁▁▁▆▄▂▅▃▂▁█▃▃▁▄▅▂▅▂▄▃▃▂▃▄▆▅▁▄▂▂▄▆▃▂▂</td></tr><tr><td>masked</td><td>▁▁▁▁▁▁▁▁▁▁▁▁▁▁▁▁▁▁▁▁▁▁▁▁▁▁▁▁▁▁▁▁▁▁▁▁▁▁▁▁</td></tr><tr><td>nshot</td><td>▁▁▁▁▁▁▁▁▁▁▁▁▁▁▁▁▁▁▁▁▁▁▁▁▁▁▁▁▁▁▁▁▁▁▁▁▁▁▁▁</td></tr><tr><td>precision</td><td>▃▅▃▃▂▁▁▆▄▄▆▅▂▁█▄▃▂▃▇▄▆▃▄▃▃▃▂▄▆▄▂▆▁▃▃▇▃▃▂</td></tr><tr><td>recall</td><td>▅▅▂▃▁▂▂▅▄▂▄▂▂▂█▃▃▂▅▄▂▄▂▅▃▄▁▄▆▅▆▁▃▃▂▄▅▄▂▂</td></tr></table><br/></div><div class=\"wandb-col\"><h3>Run summary:</h3><br/><table class=\"wandb\"><tr><td>f1</td><td>0.4558</td></tr><tr><td>generation</td><td>The query selects al...</td></tr><tr><td>masked</td><td>True</td></tr><tr><td>nshot</td><td>0</td></tr><tr><td>precision</td><td>0.38503</td></tr><tr><td>query</td><td>select t1.celllabel ...</td></tr><tr><td>question</td><td>what are the five mo...</td></tr><tr><td>recall</td><td>0.55846</td></tr><tr><td>retrieval_method</td><td>tfidf</td></tr></table><br/></div></div>"
      ],
      "text/plain": [
       "<IPython.core.display.HTML object>"
      ]
     },
     "metadata": {},
     "output_type": "display_data"
    },
    {
     "data": {
      "text/html": [
       " View run <strong style=\"color:#cdcd00\">tfidf-masked-0shot</strong> at: <a href='https://wandb.ai/besalelir1-team/fewshot-sql-descriptions/runs/helqdr6z' target=\"_blank\">https://wandb.ai/besalelir1-team/fewshot-sql-descriptions/runs/helqdr6z</a><br/>Synced 5 W&B file(s), 0 media file(s), 0 artifact file(s) and 0 other file(s)"
      ],
      "text/plain": [
       "<IPython.core.display.HTML object>"
      ]
     },
     "metadata": {},
     "output_type": "display_data"
    },
    {
     "data": {
      "text/html": [
       "Find logs at: <code>./wandb/run-20230505_084234-helqdr6z/logs</code>"
      ],
      "text/plain": [
       "<IPython.core.display.HTML object>"
      ]
     },
     "metadata": {},
     "output_type": "display_data"
    },
    {
     "data": {
      "text/html": [
       "Tracking run with wandb version 0.15.1"
      ],
      "text/plain": [
       "<IPython.core.display.HTML object>"
      ]
     },
     "metadata": {},
     "output_type": "display_data"
    },
    {
     "data": {
      "text/html": [
       "Run data is saved locally in <code>/Users/razbesaleli/fewshot-sql-descriptions/wandb/run-20230505_084244-1twjbcs9</code>"
      ],
      "text/plain": [
       "<IPython.core.display.HTML object>"
      ]
     },
     "metadata": {},
     "output_type": "display_data"
    },
    {
     "data": {
      "text/html": [
       "Syncing run <strong><a href='https://wandb.ai/besalelir1-team/fewshot-sql-descriptions/runs/1twjbcs9' target=\"_blank\">tfidf-masked-1shot</a></strong> to <a href='https://wandb.ai/besalelir1-team/fewshot-sql-descriptions' target=\"_blank\">Weights & Biases</a> (<a href='https://wandb.me/run' target=\"_blank\">docs</a>)<br/>"
      ],
      "text/plain": [
       "<IPython.core.display.HTML object>"
      ]
     },
     "metadata": {},
     "output_type": "display_data"
    },
    {
     "data": {
      "text/html": [
       " View project at <a href='https://wandb.ai/besalelir1-team/fewshot-sql-descriptions' target=\"_blank\">https://wandb.ai/besalelir1-team/fewshot-sql-descriptions</a>"
      ],
      "text/plain": [
       "<IPython.core.display.HTML object>"
      ]
     },
     "metadata": {},
     "output_type": "display_data"
    },
    {
     "data": {
      "text/html": [
       " View run at <a href='https://wandb.ai/besalelir1-team/fewshot-sql-descriptions/runs/1twjbcs9' target=\"_blank\">https://wandb.ai/besalelir1-team/fewshot-sql-descriptions/runs/1twjbcs9</a>"
      ],
      "text/plain": [
       "<IPython.core.display.HTML object>"
      ]
     },
     "metadata": {},
     "output_type": "display_data"
    },
    {
     "name": "stderr",
     "output_type": "stream",
     "text": [
      "100%|██████████| 755/755 [00:00<00:00, 10507.44it/s]\n"
     ]
    },
    {
     "data": {
      "text/html": [
       "Waiting for W&B process to finish... <strong style=\"color:green\">(success).</strong>"
      ],
      "text/plain": [
       "<IPython.core.display.HTML object>"
      ]
     },
     "metadata": {},
     "output_type": "display_data"
    },
    {
     "data": {
      "text/html": [
       "<style>\n",
       "    table.wandb td:nth-child(1) { padding: 0 10px; text-align: left ; width: auto;} td:nth-child(2) {text-align: left ; width: 100%}\n",
       "    .wandb-row { display: flex; flex-direction: row; flex-wrap: wrap; justify-content: flex-start; width: 100% }\n",
       "    .wandb-col { display: flex; flex-direction: column; flex-basis: 100%; flex: 1; padding: 10px; }\n",
       "    </style>\n",
       "<div class=\"wandb-row\"><div class=\"wandb-col\"><h3>Run history:</h3><br/><table class=\"wandb\"><tr><td>f1</td><td>▅▅▁▇▆█▄▆▄▁▆▅▅▆▁▂▃▂▃▆▆▆▅▄▆▅▆▅▇▄▆▄▆▇▇▇▄▆▄▇</td></tr><tr><td>masked</td><td>▁▁▁▁▁▁▁▁▁▁▁▁▁▁▁▁▁▁▁▁▁▁▁▁▁▁▁▁▁▁▁▁▁▁▁▁▁▁▁▁</td></tr><tr><td>nshot</td><td>▁▁▁▁▁▁▁▁▁▁▁▁▁▁▁▁▁▁▁▁▁▁▁▁▁▁▁▁▁▁▁▁▁▁▁▁▁▁▁▁</td></tr><tr><td>precision</td><td>▄▅▁▇▆█▃▅▄▁▆▅▆▆▂▃▂▂▃▅▆▆▄▄▇▅▇▅▇▅▆▅▅▇▇▇▅▆▄▇</td></tr><tr><td>recall</td><td>▆▆▂▇▆█▄▆▅▂▆▅▅▆▁▃▃▃▄▆▆▆▅▅▆▅▅▅▇▄▇▄▇▇▇█▄▆▄█</td></tr></table><br/></div><div class=\"wandb-col\"><h3>Run summary:</h3><br/><table class=\"wandb\"><tr><td>f1</td><td>0.8409</td></tr><tr><td>generation</td><td>what are the five mo...</td></tr><tr><td>masked</td><td>True</td></tr><tr><td>nshot</td><td>1</td></tr><tr><td>precision</td><td>0.77444</td></tr><tr><td>query</td><td>select t1.celllabel ...</td></tr><tr><td>question</td><td>what are the five mo...</td></tr><tr><td>recall</td><td>0.91984</td></tr><tr><td>retrieval_method</td><td>tfidf</td></tr></table><br/></div></div>"
      ],
      "text/plain": [
       "<IPython.core.display.HTML object>"
      ]
     },
     "metadata": {},
     "output_type": "display_data"
    },
    {
     "data": {
      "text/html": [
       " View run <strong style=\"color:#cdcd00\">tfidf-masked-1shot</strong> at: <a href='https://wandb.ai/besalelir1-team/fewshot-sql-descriptions/runs/1twjbcs9' target=\"_blank\">https://wandb.ai/besalelir1-team/fewshot-sql-descriptions/runs/1twjbcs9</a><br/>Synced 5 W&B file(s), 0 media file(s), 0 artifact file(s) and 0 other file(s)"
      ],
      "text/plain": [
       "<IPython.core.display.HTML object>"
      ]
     },
     "metadata": {},
     "output_type": "display_data"
    },
    {
     "data": {
      "text/html": [
       "Find logs at: <code>./wandb/run-20230505_084244-1twjbcs9/logs</code>"
      ],
      "text/plain": [
       "<IPython.core.display.HTML object>"
      ]
     },
     "metadata": {},
     "output_type": "display_data"
    },
    {
     "data": {
      "text/html": [
       "Tracking run with wandb version 0.15.1"
      ],
      "text/plain": [
       "<IPython.core.display.HTML object>"
      ]
     },
     "metadata": {},
     "output_type": "display_data"
    },
    {
     "data": {
      "text/html": [
       "Run data is saved locally in <code>/Users/razbesaleli/fewshot-sql-descriptions/wandb/run-20230505_084252-7qjtp5hv</code>"
      ],
      "text/plain": [
       "<IPython.core.display.HTML object>"
      ]
     },
     "metadata": {},
     "output_type": "display_data"
    },
    {
     "data": {
      "text/html": [
       "Syncing run <strong><a href='https://wandb.ai/besalelir1-team/fewshot-sql-descriptions/runs/7qjtp5hv' target=\"_blank\">tfidf-masked-2shot</a></strong> to <a href='https://wandb.ai/besalelir1-team/fewshot-sql-descriptions' target=\"_blank\">Weights & Biases</a> (<a href='https://wandb.me/run' target=\"_blank\">docs</a>)<br/>"
      ],
      "text/plain": [
       "<IPython.core.display.HTML object>"
      ]
     },
     "metadata": {},
     "output_type": "display_data"
    },
    {
     "data": {
      "text/html": [
       " View project at <a href='https://wandb.ai/besalelir1-team/fewshot-sql-descriptions' target=\"_blank\">https://wandb.ai/besalelir1-team/fewshot-sql-descriptions</a>"
      ],
      "text/plain": [
       "<IPython.core.display.HTML object>"
      ]
     },
     "metadata": {},
     "output_type": "display_data"
    },
    {
     "data": {
      "text/html": [
       " View run at <a href='https://wandb.ai/besalelir1-team/fewshot-sql-descriptions/runs/7qjtp5hv' target=\"_blank\">https://wandb.ai/besalelir1-team/fewshot-sql-descriptions/runs/7qjtp5hv</a>"
      ],
      "text/plain": [
       "<IPython.core.display.HTML object>"
      ]
     },
     "metadata": {},
     "output_type": "display_data"
    },
    {
     "name": "stderr",
     "output_type": "stream",
     "text": [
      "100%|██████████| 755/755 [00:00<00:00, 11301.69it/s]\n"
     ]
    },
    {
     "data": {
      "text/html": [
       "Waiting for W&B process to finish... <strong style=\"color:green\">(success).</strong>"
      ],
      "text/plain": [
       "<IPython.core.display.HTML object>"
      ]
     },
     "metadata": {},
     "output_type": "display_data"
    },
    {
     "data": {
      "text/html": [
       "<style>\n",
       "    table.wandb td:nth-child(1) { padding: 0 10px; text-align: left ; width: auto;} td:nth-child(2) {text-align: left ; width: 100%}\n",
       "    .wandb-row { display: flex; flex-direction: row; flex-wrap: wrap; justify-content: flex-start; width: 100% }\n",
       "    .wandb-col { display: flex; flex-direction: column; flex-basis: 100%; flex: 1; padding: 10px; }\n",
       "    </style>\n",
       "<div class=\"wandb-row\"><div class=\"wandb-col\"><h3>Run history:</h3><br/><table class=\"wandb\"><tr><td>f1</td><td>▅▇▁█▂▅▆▃▁▃▇▄▄▄▆▂▅▂▆▆▆▅▆▇▇▇█▇▅▃▆▅▆▆▆▆▅▅▄▄</td></tr><tr><td>masked</td><td>▁▁▁▁▁▁▁▁▁▁▁▁▁▁▁▁▁▁▁▁▁▁▁▁▁▁▁▁▁▁▁▁▁▁▁▁▁▁▁▁</td></tr><tr><td>nshot</td><td>▁▁▁▁▁▁▁▁▁▁▁▁▁▁▁▁▁▁▁▁▁▁▁▁▁▁▁▁▁▁▁▁▁▁▁▁▁▁▁▁</td></tr><tr><td>precision</td><td>▅▇▃█▄▆▆▄▁▃▇▆▅▄▇▃▅▄▆▆▇▆▇▇▇▇█▇▅▅▆▇▇▅▆▆▇▅▅▄</td></tr><tr><td>recall</td><td>▆▇▁▇▂▄▆▄▂▃▆▄▄▄▆▂▅▂▆▆▆▅▅▇▆▇█▇▆▃▇▄▇▆▆▆▃▅▄▅</td></tr></table><br/></div><div class=\"wandb-col\"><h3>Run summary:</h3><br/><table class=\"wandb\"><tr><td>f1</td><td>0.64794</td></tr><tr><td>generation</td><td>SELECT the top five ...</td></tr><tr><td>masked</td><td>True</td></tr><tr><td>nshot</td><td>2</td></tr><tr><td>precision</td><td>0.57391</td></tr><tr><td>query</td><td>select t1.celllabel ...</td></tr><tr><td>question</td><td>what are the five mo...</td></tr><tr><td>recall</td><td>0.7439</td></tr><tr><td>retrieval_method</td><td>tfidf</td></tr></table><br/></div></div>"
      ],
      "text/plain": [
       "<IPython.core.display.HTML object>"
      ]
     },
     "metadata": {},
     "output_type": "display_data"
    },
    {
     "data": {
      "text/html": [
       " View run <strong style=\"color:#cdcd00\">tfidf-masked-2shot</strong> at: <a href='https://wandb.ai/besalelir1-team/fewshot-sql-descriptions/runs/7qjtp5hv' target=\"_blank\">https://wandb.ai/besalelir1-team/fewshot-sql-descriptions/runs/7qjtp5hv</a><br/>Synced 5 W&B file(s), 0 media file(s), 0 artifact file(s) and 0 other file(s)"
      ],
      "text/plain": [
       "<IPython.core.display.HTML object>"
      ]
     },
     "metadata": {},
     "output_type": "display_data"
    },
    {
     "data": {
      "text/html": [
       "Find logs at: <code>./wandb/run-20230505_084252-7qjtp5hv/logs</code>"
      ],
      "text/plain": [
       "<IPython.core.display.HTML object>"
      ]
     },
     "metadata": {},
     "output_type": "display_data"
    },
    {
     "data": {
      "text/html": [
       "Tracking run with wandb version 0.15.1"
      ],
      "text/plain": [
       "<IPython.core.display.HTML object>"
      ]
     },
     "metadata": {},
     "output_type": "display_data"
    },
    {
     "data": {
      "text/html": [
       "Run data is saved locally in <code>/Users/razbesaleli/fewshot-sql-descriptions/wandb/run-20230505_084259-c460eynr</code>"
      ],
      "text/plain": [
       "<IPython.core.display.HTML object>"
      ]
     },
     "metadata": {},
     "output_type": "display_data"
    },
    {
     "data": {
      "text/html": [
       "Syncing run <strong><a href='https://wandb.ai/besalelir1-team/fewshot-sql-descriptions/runs/c460eynr' target=\"_blank\">tfidf-masked-3shot</a></strong> to <a href='https://wandb.ai/besalelir1-team/fewshot-sql-descriptions' target=\"_blank\">Weights & Biases</a> (<a href='https://wandb.me/run' target=\"_blank\">docs</a>)<br/>"
      ],
      "text/plain": [
       "<IPython.core.display.HTML object>"
      ]
     },
     "metadata": {},
     "output_type": "display_data"
    },
    {
     "data": {
      "text/html": [
       " View project at <a href='https://wandb.ai/besalelir1-team/fewshot-sql-descriptions' target=\"_blank\">https://wandb.ai/besalelir1-team/fewshot-sql-descriptions</a>"
      ],
      "text/plain": [
       "<IPython.core.display.HTML object>"
      ]
     },
     "metadata": {},
     "output_type": "display_data"
    },
    {
     "data": {
      "text/html": [
       " View run at <a href='https://wandb.ai/besalelir1-team/fewshot-sql-descriptions/runs/c460eynr' target=\"_blank\">https://wandb.ai/besalelir1-team/fewshot-sql-descriptions/runs/c460eynr</a>"
      ],
      "text/plain": [
       "<IPython.core.display.HTML object>"
      ]
     },
     "metadata": {},
     "output_type": "display_data"
    },
    {
     "name": "stderr",
     "output_type": "stream",
     "text": [
      "100%|██████████| 755/755 [00:00<00:00, 11251.54it/s]\n"
     ]
    },
    {
     "data": {
      "text/html": [
       "Waiting for W&B process to finish... <strong style=\"color:green\">(success).</strong>"
      ],
      "text/plain": [
       "<IPython.core.display.HTML object>"
      ]
     },
     "metadata": {},
     "output_type": "display_data"
    },
    {
     "data": {
      "text/html": [
       "<style>\n",
       "    table.wandb td:nth-child(1) { padding: 0 10px; text-align: left ; width: auto;} td:nth-child(2) {text-align: left ; width: 100%}\n",
       "    .wandb-row { display: flex; flex-direction: row; flex-wrap: wrap; justify-content: flex-start; width: 100% }\n",
       "    .wandb-col { display: flex; flex-direction: column; flex-basis: 100%; flex: 1; padding: 10px; }\n",
       "    </style>\n",
       "<div class=\"wandb-row\"><div class=\"wandb-col\"><h3>Run history:</h3><br/><table class=\"wandb\"><tr><td>f1</td><td>▆▇▁▇▆▅▆▆▅▃▇▃▅▄▄▁▄▂▃▇▇▄▅▇▆█▇▇▇▄▆▅▆▄▇▇▅▃▆▇</td></tr><tr><td>masked</td><td>▁▁▁▁▁▁▁▁▁▁▁▁▁▁▁▁▁▁▁▁▁▁▁▁▁▁▁▁▁▁▁▁▁▁▁▁▁▁▁▁</td></tr><tr><td>nshot</td><td>▁▁▁▁▁▁▁▁▁▁▁▁▁▁▁▁▁▁▁▁▁▁▁▁▁▁▁▁▁▁▁▁▁▁▁▁▁▁▁▁</td></tr><tr><td>precision</td><td>▆█▁█▆▅▆▆▄▃█▃▄▄▅▁▅▄▂▇▇▅▄▇▇██▆▆▃▆▆▆▃▇▇▅▂▅▇</td></tr><tr><td>recall</td><td>▆▇▁▇▆▄▆▆▆▄▇▃▅▅▄▁▄▁▃▇▇▄▅▇▅█▇▇▇▄▇▅▇▅▇▇▅▄▆▆</td></tr></table><br/></div><div class=\"wandb-col\"><h3>Run summary:</h3><br/><table class=\"wandb\"><tr><td>f1</td><td>0.67451</td></tr><tr><td>generation</td><td>give me the top five...</td></tr><tr><td>masked</td><td>True</td></tr><tr><td>nshot</td><td>3</td></tr><tr><td>precision</td><td>0.60378</td></tr><tr><td>query</td><td>select t1.celllabel ...</td></tr><tr><td>question</td><td>what are the five mo...</td></tr><tr><td>recall</td><td>0.76401</td></tr><tr><td>retrieval_method</td><td>tfidf</td></tr></table><br/></div></div>"
      ],
      "text/plain": [
       "<IPython.core.display.HTML object>"
      ]
     },
     "metadata": {},
     "output_type": "display_data"
    },
    {
     "data": {
      "text/html": [
       " View run <strong style=\"color:#cdcd00\">tfidf-masked-3shot</strong> at: <a href='https://wandb.ai/besalelir1-team/fewshot-sql-descriptions/runs/c460eynr' target=\"_blank\">https://wandb.ai/besalelir1-team/fewshot-sql-descriptions/runs/c460eynr</a><br/>Synced 5 W&B file(s), 0 media file(s), 0 artifact file(s) and 0 other file(s)"
      ],
      "text/plain": [
       "<IPython.core.display.HTML object>"
      ]
     },
     "metadata": {},
     "output_type": "display_data"
    },
    {
     "data": {
      "text/html": [
       "Find logs at: <code>./wandb/run-20230505_084259-c460eynr/logs</code>"
      ],
      "text/plain": [
       "<IPython.core.display.HTML object>"
      ]
     },
     "metadata": {},
     "output_type": "display_data"
    }
   ],
   "source": [
    "for retrieval_method, by_retrieval_method in df.groupby('retrieval_method'):\n",
    "    for is_masked, by_mask in by_retrieval_method.groupby('masked'):\n",
    "        for nshot, dff in by_mask.groupby('nshot'):\n",
    "            run_name = f\"{retrieval_method}-{'' if is_masked else 'un'}masked-{nshot}shot\"\n",
    "            \n",
    "            config = {\n",
    "                'is_masked': is_masked,\n",
    "                'retrieval_method': retrieval_method,\n",
    "                'nshot': nshot\n",
    "            }\n",
    "\n",
    "            with wandb.init(project=PROJECT_NAME, name=run_name, config=config) as run:\n",
    "                for _, row in tqdm(dff.iterrows(), total=len(dff)):\n",
    "                    run.log(row.to_dict())"
   ]
  }
 ],
 "metadata": {
  "kernelspec": {
   "display_name": ".venv",
   "language": "python",
   "name": "python3"
  },
  "language_info": {
   "codemirror_mode": {
    "name": "ipython",
    "version": 3
   },
   "file_extension": ".py",
   "mimetype": "text/x-python",
   "name": "python",
   "nbconvert_exporter": "python",
   "pygments_lexer": "ipython3",
   "version": "3.9.6"
  },
  "orig_nbformat": 4
 },
 "nbformat": 4,
 "nbformat_minor": 2
}
