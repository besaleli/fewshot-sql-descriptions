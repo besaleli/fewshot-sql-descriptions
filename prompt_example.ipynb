{
 "cells": [
  {
   "cell_type": "code",
   "execution_count": 24,
   "metadata": {},
   "outputs": [],
   "source": [
    "import pandas as pd\n",
    "from libs import (\n",
    "    get_collection_method,\n",
    "    load_training_inputs,\n",
    "    Collection,\n",
    "    )\n",
    "from libs.generation import DescriptionGenerator\n",
    "import sqlglot"
   ]
  },
  {
   "cell_type": "code",
   "execution_count": 4,
   "metadata": {},
   "outputs": [
    {
     "name": "stdout",
     "output_type": "stream",
     "text": [
      "training model...\n"
     ]
    },
    {
     "name": "stderr",
     "output_type": "stream",
     "text": [
      "/Users/razbesaleli/fewshot-sql-descriptions/.venv/lib/python3.9/site-packages/sklearn/feature_extraction/text.py:528: UserWarning: The parameter 'token_pattern' will not be used since 'tokenizer' is not None'\n",
      "  warnings.warn(\n"
     ]
    },
    {
     "name": "stdout",
     "output_type": "stream",
     "text": [
      "getting vectors...\n",
      "loading inputs...\n",
      "getting prompts...\n"
     ]
    }
   ],
   "source": [
    "# load dataset\n",
    "train = pd.read_json('EHRSQL/dataset/ehrsql/eicu/train.json')\n",
    "train = train[train['is_impossible'] == False]\n",
    "train = train.sample(frac=0.1, random_state=42).reset_index(drop=True)\n",
    "\n",
    "df = pd.read_json('EHRSQL/dataset/ehrsql/eicu/valid.json')\n",
    "df = df[df['is_impossible'] == False]\n",
    "\n",
    "# instantiate collection\n",
    "collection: Collection = get_collection_method('tfidf')(train)\n",
    "\n",
    "print('loading inputs...')\n",
    "# load eval inputs\n",
    "eval_inputs = load_training_inputs(\n",
    "    dataset=df,\n",
    "    collection=collection,\n",
    "    n=1,\n",
    "    mask_columns=1000,\n",
    "    mask_literals=False\n",
    "    )\n",
    "\n",
    "print('getting prompts...')\n",
    "descgen = DescriptionGenerator()\n",
    "prompts = [descgen.create_prompt(i.query, i.examples) for i in eval_inputs]"
   ]
  },
  {
   "cell_type": "code",
   "execution_count": 19,
   "metadata": {},
   "outputs": [],
   "source": [
    "df['prompt'] = prompts\n",
    "df['l'] = df['prompt'].map(lambda i: len(i))\n",
    "df = df.sort_values(by='l')"
   ]
  },
  {
   "cell_type": "code",
   "execution_count": 28,
   "metadata": {},
   "outputs": [
    {
     "name": "stdout",
     "output_type": "stream",
     "text": [
      "QUESTION:  what is warfarin sodium 2.5 mg po tabs's way of ingesting it?\n",
      "\n",
      "QUERY: \n",
      "\n",
      "SELECT DISTINCT\n",
      "  medication.routeadmin\n",
      "FROM medication\n",
      "WHERE\n",
      "  medication.drugname = 'warfarin sodium 2.5 mg po tabs'\n",
      "\n",
      "PROMPT\n",
      "--------------------------------------------------\n",
      "\n",
      "# Query:\n",
      "```sql\n",
      "SELECT DISTINCT COL0 FROM patient WHERE COL1 = '009-424'\n",
      "```\n",
      "\n",
      "# Describe the query above in a short sentence:\n",
      "tell me the sex of patient 009-424.\n",
      "\n",
      "# Query:\n",
      "```sql\n",
      "SELECT DISTINCT COL0 FROM patient WHERE COL1 = '017-41154'\n",
      "```\n",
      "\n",
      "# Describe the query above in a short sentence:\n",
      "\n"
     ]
    }
   ],
   "source": [
    "row = df.iloc[0]\n",
    "\n",
    "print('QUESTION: ', row['question'])\n",
    "print()\n",
    "print('QUERY: ')\n",
    "print()\n",
    "print(sqlglot.parse_one(row['query']).sql(pretty=True))\n",
    "print()\n",
    "print('PROMPT')\n",
    "print('-' * 50)\n",
    "print()\n",
    "print(row['prompt'])"
   ]
  }
 ],
 "metadata": {
  "kernelspec": {
   "display_name": ".venv",
   "language": "python",
   "name": "python3"
  },
  "language_info": {
   "codemirror_mode": {
    "name": "ipython",
    "version": 3
   },
   "file_extension": ".py",
   "mimetype": "text/x-python",
   "name": "python",
   "nbconvert_exporter": "python",
   "pygments_lexer": "ipython3",
   "version": "3.9.6"
  },
  "orig_nbformat": 4
 },
 "nbformat": 4,
 "nbformat_minor": 2
}
